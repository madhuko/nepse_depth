{
 "cells": [
  {
   "cell_type": "code",
   "execution_count": 1,
   "metadata": {},
   "outputs": [],
   "source": [
    "from nepse import AsyncNepse \n",
    "import asyncio\n",
    "import pandas as pd\n",
    "from datetime import datetime, timedelta\n",
    "import os\n",
    "import glob\n"
   ]
  },
  {
   "cell_type": "code",
   "execution_count": 2,
   "metadata": {},
   "outputs": [],
   "source": [
    "nepse = AsyncNepse()\n",
    "nepse.setTLSVerification(False)  # Temporary, until NEPSE sorts its SSL certificate problem"
   ]
  },
  {
   "cell_type": "code",
   "execution_count": 3,
   "metadata": {},
   "outputs": [
    {
     "data": {
      "text/html": [
       "<div>\n",
       "<style scoped>\n",
       "    .dataframe tbody tr th:only-of-type {\n",
       "        vertical-align: middle;\n",
       "    }\n",
       "\n",
       "    .dataframe tbody tr th {\n",
       "        vertical-align: top;\n",
       "    }\n",
       "\n",
       "    .dataframe thead th {\n",
       "        text-align: right;\n",
       "    }\n",
       "</style>\n",
       "<table border=\"1\" class=\"dataframe\">\n",
       "  <thead>\n",
       "    <tr style=\"text-align: right;\">\n",
       "      <th></th>\n",
       "      <th>timestamp</th>\n",
       "      <th>data</th>\n",
       "    </tr>\n",
       "  </thead>\n",
       "  <tbody>\n",
       "    <tr>\n",
       "      <th>0</th>\n",
       "      <td>2025-01-20 11:00:04.061386</td>\n",
       "      <td>{'USHL': 'error code Expecting value: line 1 c...</td>\n",
       "    </tr>\n",
       "    <tr>\n",
       "      <th>1</th>\n",
       "      <td>2025-01-20 11:25:34.498529</td>\n",
       "      <td>{'USHL': {'totalBuyQty': 7562, 'marketDepth': ...</td>\n",
       "    </tr>\n",
       "    <tr>\n",
       "      <th>2</th>\n",
       "      <td>2025-01-20 11:57:51.929936</td>\n",
       "      <td>{'USHL': {'totalBuyQty': 13603, 'marketDepth':...</td>\n",
       "    </tr>\n",
       "    <tr>\n",
       "      <th>3</th>\n",
       "      <td>2025-01-20 12:29:32.839163</td>\n",
       "      <td>{'USHL': {'totalBuyQty': 7561, 'marketDepth': ...</td>\n",
       "    </tr>\n",
       "    <tr>\n",
       "      <th>4</th>\n",
       "      <td>2025-01-20 13:03:41.479863</td>\n",
       "      <td>{'USHL': {'totalBuyQty': 7932, 'marketDepth': ...</td>\n",
       "    </tr>\n",
       "    <tr>\n",
       "      <th>5</th>\n",
       "      <td>2025-01-20 13:25:26.547882</td>\n",
       "      <td>{'USHL': {'totalBuyQty': 8318, 'marketDepth': ...</td>\n",
       "    </tr>\n",
       "    <tr>\n",
       "      <th>6</th>\n",
       "      <td>2025-01-20 14:04:41.237962</td>\n",
       "      <td>{'USHL': {'totalBuyQty': 7918, 'marketDepth': ...</td>\n",
       "    </tr>\n",
       "    <tr>\n",
       "      <th>7</th>\n",
       "      <td>2025-01-20 14:27:26.180305</td>\n",
       "      <td>{'USHL': {'totalBuyQty': 7828, 'marketDepth': ...</td>\n",
       "    </tr>\n",
       "    <tr>\n",
       "      <th>8</th>\n",
       "      <td>2025-01-20 14:39:41.994745</td>\n",
       "      <td>{'USHL': {'totalBuyQty': 8088, 'marketDepth': ...</td>\n",
       "    </tr>\n",
       "  </tbody>\n",
       "</table>\n",
       "</div>"
      ],
      "text/plain": [
       "                   timestamp  \\\n",
       "0 2025-01-20 11:00:04.061386   \n",
       "1 2025-01-20 11:25:34.498529   \n",
       "2 2025-01-20 11:57:51.929936   \n",
       "3 2025-01-20 12:29:32.839163   \n",
       "4 2025-01-20 13:03:41.479863   \n",
       "5 2025-01-20 13:25:26.547882   \n",
       "6 2025-01-20 14:04:41.237962   \n",
       "7 2025-01-20 14:27:26.180305   \n",
       "8 2025-01-20 14:39:41.994745   \n",
       "\n",
       "                                                data  \n",
       "0  {'USHL': 'error code Expecting value: line 1 c...  \n",
       "1  {'USHL': {'totalBuyQty': 7562, 'marketDepth': ...  \n",
       "2  {'USHL': {'totalBuyQty': 13603, 'marketDepth':...  \n",
       "3  {'USHL': {'totalBuyQty': 7561, 'marketDepth': ...  \n",
       "4  {'USHL': {'totalBuyQty': 7932, 'marketDepth': ...  \n",
       "5  {'USHL': {'totalBuyQty': 8318, 'marketDepth': ...  \n",
       "6  {'USHL': {'totalBuyQty': 7918, 'marketDepth': ...  \n",
       "7  {'USHL': {'totalBuyQty': 7828, 'marketDepth': ...  \n",
       "8  {'USHL': {'totalBuyQty': 8088, 'marketDepth': ...  "
      ]
     },
     "execution_count": 3,
     "metadata": {},
     "output_type": "execute_result"
    }
   ],
   "source": [
    "df=pd.read_json(r'files\\2025\\2025-01-20.json')\n",
    "# df['id']=df['marketDepth'][0].get('buyMarketDepthList')[0].get('stockId')\n",
    "df"
   ]
  },
  {
   "cell_type": "code",
   "execution_count": 4,
   "metadata": {},
   "outputs": [],
   "source": [
    "df_combined = pd.DataFrame()\n",
    "for i in df.index:\n",
    "    df1 = pd.DataFrame.from_dict(df['data'][i]).T[['totalBuyQty', 'totalSellQty']]\n",
    "    df1['timestamp'] = df['timestamp'][i]\n",
    "    df1.reset_index(inplace=True)\n",
    "    if df_combined.empty:\n",
    "        df_combined = df1\n",
    "    else:\n",
    "        df_combined = pd.concat([df_combined, df1])"
   ]
  },
  {
   "cell_type": "code",
   "execution_count": 5,
   "metadata": {},
   "outputs": [],
   "source": [
    "df_combined=pd.merge(df_combined, pd.DataFrame.from_dict(await nepse.getCompanyList())[['symbol', 'sectorName']], left_on='index',right_on='symbol', how='left')\n"
   ]
  },
  {
   "cell_type": "code",
   "execution_count": 6,
   "metadata": {},
   "outputs": [],
   "source": [
    "df_combined.to_clipboard()"
   ]
  },
  {
   "cell_type": "code",
   "execution_count": 9,
   "metadata": {},
   "outputs": [
    {
     "data": {
      "text/html": [
       "<div>\n",
       "<style scoped>\n",
       "    .dataframe tbody tr th:only-of-type {\n",
       "        vertical-align: middle;\n",
       "    }\n",
       "\n",
       "    .dataframe tbody tr th {\n",
       "        vertical-align: top;\n",
       "    }\n",
       "\n",
       "    .dataframe thead th {\n",
       "        text-align: right;\n",
       "    }\n",
       "</style>\n",
       "<table border=\"1\" class=\"dataframe\">\n",
       "  <thead>\n",
       "    <tr style=\"text-align: right;\">\n",
       "      <th></th>\n",
       "      <th>index</th>\n",
       "      <th>totalBuyQty</th>\n",
       "      <th>totalSellQty</th>\n",
       "      <th>timestamp</th>\n",
       "    </tr>\n",
       "  </thead>\n",
       "  <tbody>\n",
       "    <tr>\n",
       "      <th>0</th>\n",
       "      <td>USHL</td>\n",
       "      <td>2851</td>\n",
       "      <td>2506</td>\n",
       "      <td>2025-01-13 11:09:37.774299</td>\n",
       "    </tr>\n",
       "    <tr>\n",
       "      <th>1</th>\n",
       "      <td>ACLBSL</td>\n",
       "      <td>10</td>\n",
       "      <td>402</td>\n",
       "      <td>2025-01-13 11:09:37.774299</td>\n",
       "    </tr>\n",
       "    <tr>\n",
       "      <th>2</th>\n",
       "      <td>ACLBSLP</td>\n",
       "      <td>0</td>\n",
       "      <td>0</td>\n",
       "      <td>2025-01-13 11:09:37.774299</td>\n",
       "    </tr>\n",
       "    <tr>\n",
       "      <th>3</th>\n",
       "      <td>ANLB</td>\n",
       "      <td>0</td>\n",
       "      <td>3985</td>\n",
       "      <td>2025-01-13 11:09:37.774299</td>\n",
       "    </tr>\n",
       "    <tr>\n",
       "      <th>4</th>\n",
       "      <td>ANLBP</td>\n",
       "      <td>0</td>\n",
       "      <td>0</td>\n",
       "      <td>2025-01-13 11:09:37.774299</td>\n",
       "    </tr>\n",
       "    <tr>\n",
       "      <th>...</th>\n",
       "      <td>...</td>\n",
       "      <td>...</td>\n",
       "      <td>...</td>\n",
       "      <td>...</td>\n",
       "    </tr>\n",
       "    <tr>\n",
       "      <th>476</th>\n",
       "      <td>VLBS</td>\n",
       "      <td>4002</td>\n",
       "      <td>1648</td>\n",
       "      <td>2025-01-13 14:38:42.115729</td>\n",
       "    </tr>\n",
       "    <tr>\n",
       "      <th>477</th>\n",
       "      <td>VLBSPO</td>\n",
       "      <td>0</td>\n",
       "      <td>0</td>\n",
       "      <td>2025-01-13 14:38:42.115729</td>\n",
       "    </tr>\n",
       "    <tr>\n",
       "      <th>478</th>\n",
       "      <td>VLUCL</td>\n",
       "      <td>20149</td>\n",
       "      <td>14664</td>\n",
       "      <td>2025-01-13 14:38:42.115729</td>\n",
       "    </tr>\n",
       "    <tr>\n",
       "      <th>479</th>\n",
       "      <td>WNLB</td>\n",
       "      <td>2441</td>\n",
       "      <td>5700</td>\n",
       "      <td>2025-01-13 14:38:42.115729</td>\n",
       "    </tr>\n",
       "    <tr>\n",
       "      <th>480</th>\n",
       "      <td>WNLBP</td>\n",
       "      <td>0</td>\n",
       "      <td>0</td>\n",
       "      <td>2025-01-13 14:38:42.115729</td>\n",
       "    </tr>\n",
       "  </tbody>\n",
       "</table>\n",
       "<p>4329 rows × 4 columns</p>\n",
       "</div>"
      ],
      "text/plain": [
       "       index totalBuyQty totalSellQty                  timestamp\n",
       "0       USHL        2851         2506 2025-01-13 11:09:37.774299\n",
       "1     ACLBSL          10          402 2025-01-13 11:09:37.774299\n",
       "2    ACLBSLP           0            0 2025-01-13 11:09:37.774299\n",
       "3       ANLB           0         3985 2025-01-13 11:09:37.774299\n",
       "4      ANLBP           0            0 2025-01-13 11:09:37.774299\n",
       "..       ...         ...          ...                        ...\n",
       "476     VLBS        4002         1648 2025-01-13 14:38:42.115729\n",
       "477   VLBSPO           0            0 2025-01-13 14:38:42.115729\n",
       "478    VLUCL       20149        14664 2025-01-13 14:38:42.115729\n",
       "479     WNLB        2441         5700 2025-01-13 14:38:42.115729\n",
       "480    WNLBP           0            0 2025-01-13 14:38:42.115729\n",
       "\n",
       "[4329 rows x 4 columns]"
      ]
     },
     "execution_count": 9,
     "metadata": {},
     "output_type": "execute_result"
    }
   ],
   "source": [
    "df_combined"
   ]
  },
  {
   "cell_type": "code",
   "execution_count": 3,
   "metadata": {},
   "outputs": [],
   "source": [
    "\n",
    "# Initialize an empty DataFrame\n",
    "df_combined = pd.DataFrame()\n",
    "\n",
    "# Loop through each JSON file in the directory\n",
    "for file in glob.glob(r'files\\2025\\*.json'):\n",
    "    df_temp = pd.read_json(file)\n",
    "    for i in range(len(df_temp['data'])):\n",
    "        df1 = pd.DataFrame.from_dict(df_temp['data'][i]).T[['totalBuyQty', 'totalSellQty']]\n",
    "        df1['timestamp'] = df_temp['timestamp'][i]\n",
    "        df1.reset_index(inplace=True)\n",
    "        if df_combined.empty:\n",
    "            df_combined = df1\n",
    "        else:\n",
    "            df_combined = pd.concat([df_combined, df1])\n",
    "\n",
    "# Assign the combined DataFrame to df2\n",
    "df3 = df_combined"
   ]
  },
  {
   "cell_type": "code",
   "execution_count": 4,
   "metadata": {},
   "outputs": [
    {
     "data": {
      "text/html": [
       "<div>\n",
       "<style scoped>\n",
       "    .dataframe tbody tr th:only-of-type {\n",
       "        vertical-align: middle;\n",
       "    }\n",
       "\n",
       "    .dataframe tbody tr th {\n",
       "        vertical-align: top;\n",
       "    }\n",
       "\n",
       "    .dataframe thead th {\n",
       "        text-align: right;\n",
       "    }\n",
       "</style>\n",
       "<table border=\"1\" class=\"dataframe\">\n",
       "  <thead>\n",
       "    <tr style=\"text-align: right;\">\n",
       "      <th></th>\n",
       "      <th>index</th>\n",
       "      <th>totalBuyQty</th>\n",
       "      <th>totalSellQty</th>\n",
       "      <th>timestamp</th>\n",
       "    </tr>\n",
       "  </thead>\n",
       "  <tbody>\n",
       "    <tr>\n",
       "      <th>434</th>\n",
       "      <td>SNLI</td>\n",
       "      <td>2976</td>\n",
       "      <td>950</td>\n",
       "      <td>2025-01-01 11:08:38.469359</td>\n",
       "    </tr>\n",
       "    <tr>\n",
       "      <th>434</th>\n",
       "      <td>SNLI</td>\n",
       "      <td>15393</td>\n",
       "      <td>1889</td>\n",
       "      <td>2025-01-01 11:25:13.886984</td>\n",
       "    </tr>\n",
       "    <tr>\n",
       "      <th>434</th>\n",
       "      <td>SNLI</td>\n",
       "      <td>117821</td>\n",
       "      <td>3573</td>\n",
       "      <td>2025-01-01 12:16:44.498276</td>\n",
       "    </tr>\n",
       "    <tr>\n",
       "      <th>434</th>\n",
       "      <td>SNLI</td>\n",
       "      <td>117861</td>\n",
       "      <td>3742</td>\n",
       "      <td>2025-01-01 12:31:21.399839</td>\n",
       "    </tr>\n",
       "    <tr>\n",
       "      <th>434</th>\n",
       "      <td>SNLI</td>\n",
       "      <td>117673</td>\n",
       "      <td>4375</td>\n",
       "      <td>2025-01-01 12:55:36.500189</td>\n",
       "    </tr>\n",
       "    <tr>\n",
       "      <th>434</th>\n",
       "      <td>SNLI</td>\n",
       "      <td>120872</td>\n",
       "      <td>6212</td>\n",
       "      <td>2025-01-01 13:17:21.609275</td>\n",
       "    </tr>\n",
       "    <tr>\n",
       "      <th>434</th>\n",
       "      <td>SNLI</td>\n",
       "      <td>120879</td>\n",
       "      <td>6564</td>\n",
       "      <td>2025-01-01 14:02:49.728837</td>\n",
       "    </tr>\n",
       "    <tr>\n",
       "      <th>434</th>\n",
       "      <td>SNLI</td>\n",
       "      <td>119792</td>\n",
       "      <td>6469</td>\n",
       "      <td>2025-01-01 14:29:05.596801</td>\n",
       "    </tr>\n",
       "    <tr>\n",
       "      <th>434</th>\n",
       "      <td>SNLI</td>\n",
       "      <td>119009</td>\n",
       "      <td>6790</td>\n",
       "      <td>2025-01-01 14:37:13.072795</td>\n",
       "    </tr>\n",
       "    <tr>\n",
       "      <th>434</th>\n",
       "      <td>SNLI</td>\n",
       "      <td>2370</td>\n",
       "      <td>411</td>\n",
       "      <td>2025-01-02 11:08:40.158032</td>\n",
       "    </tr>\n",
       "    <tr>\n",
       "      <th>434</th>\n",
       "      <td>SNLI</td>\n",
       "      <td>209816</td>\n",
       "      <td>2568</td>\n",
       "      <td>2025-01-02 11:25:40.220145</td>\n",
       "    </tr>\n",
       "    <tr>\n",
       "      <th>434</th>\n",
       "      <td>SNLI</td>\n",
       "      <td>218620</td>\n",
       "      <td>10587</td>\n",
       "      <td>2025-01-03 11:07:48.954423</td>\n",
       "    </tr>\n",
       "    <tr>\n",
       "      <th>434</th>\n",
       "      <td>SNLI</td>\n",
       "      <td>218620</td>\n",
       "      <td>10587</td>\n",
       "      <td>2025-01-03 11:25:00.543876</td>\n",
       "    </tr>\n",
       "    <tr>\n",
       "      <th>434</th>\n",
       "      <td>SNLI</td>\n",
       "      <td>218620</td>\n",
       "      <td>10587</td>\n",
       "      <td>2025-01-03 12:15:03.221617</td>\n",
       "    </tr>\n",
       "    <tr>\n",
       "      <th>434</th>\n",
       "      <td>SNLI</td>\n",
       "      <td>218620</td>\n",
       "      <td>10587</td>\n",
       "      <td>2025-01-03 12:30:04.921963</td>\n",
       "    </tr>\n",
       "    <tr>\n",
       "      <th>434</th>\n",
       "      <td>SNLI</td>\n",
       "      <td>218620</td>\n",
       "      <td>10587</td>\n",
       "      <td>2025-01-03 12:55:20.748177</td>\n",
       "    </tr>\n",
       "    <tr>\n",
       "      <th>434</th>\n",
       "      <td>SNLI</td>\n",
       "      <td>218620</td>\n",
       "      <td>10587</td>\n",
       "      <td>2025-01-03 13:17:05.910217</td>\n",
       "    </tr>\n",
       "    <tr>\n",
       "      <th>434</th>\n",
       "      <td>SNLI</td>\n",
       "      <td>218620</td>\n",
       "      <td>10587</td>\n",
       "      <td>2025-01-03 14:02:35.365584</td>\n",
       "    </tr>\n",
       "    <tr>\n",
       "      <th>434</th>\n",
       "      <td>SNLI</td>\n",
       "      <td>218620</td>\n",
       "      <td>10587</td>\n",
       "      <td>2025-01-03 14:28:32.577774</td>\n",
       "    </tr>\n",
       "    <tr>\n",
       "      <th>434</th>\n",
       "      <td>SNLI</td>\n",
       "      <td>218620</td>\n",
       "      <td>10587</td>\n",
       "      <td>2025-01-03 14:36:54.357733</td>\n",
       "    </tr>\n",
       "    <tr>\n",
       "      <th>434</th>\n",
       "      <td>SNLI</td>\n",
       "      <td>3856</td>\n",
       "      <td>550</td>\n",
       "      <td>2025-01-05 11:07:09.208274</td>\n",
       "    </tr>\n",
       "    <tr>\n",
       "      <th>434</th>\n",
       "      <td>SNLI</td>\n",
       "      <td>6266</td>\n",
       "      <td>2546</td>\n",
       "      <td>2025-01-05 11:23:56.896122</td>\n",
       "    </tr>\n",
       "    <tr>\n",
       "      <th>434</th>\n",
       "      <td>SNLI</td>\n",
       "      <td>208701</td>\n",
       "      <td>4868</td>\n",
       "      <td>2025-01-05 12:14:08.106087</td>\n",
       "    </tr>\n",
       "    <tr>\n",
       "      <th>434</th>\n",
       "      <td>SNLI</td>\n",
       "      <td>210058</td>\n",
       "      <td>7276</td>\n",
       "      <td>2025-01-05 12:28:43.363699</td>\n",
       "    </tr>\n",
       "    <tr>\n",
       "      <th>434</th>\n",
       "      <td>SNLI</td>\n",
       "      <td>209395</td>\n",
       "      <td>7992</td>\n",
       "      <td>2025-01-05 12:54:42.231423</td>\n",
       "    </tr>\n",
       "    <tr>\n",
       "      <th>434</th>\n",
       "      <td>SNLI</td>\n",
       "      <td>210233</td>\n",
       "      <td>7901</td>\n",
       "      <td>2025-01-05 13:17:30.435004</td>\n",
       "    </tr>\n",
       "    <tr>\n",
       "      <th>434</th>\n",
       "      <td>SNLI</td>\n",
       "      <td>212176</td>\n",
       "      <td>7519</td>\n",
       "      <td>2025-01-05 14:01:20.373548</td>\n",
       "    </tr>\n",
       "    <tr>\n",
       "      <th>434</th>\n",
       "      <td>SNLI</td>\n",
       "      <td>211653</td>\n",
       "      <td>8002</td>\n",
       "      <td>2025-01-05 14:26:55.338707</td>\n",
       "    </tr>\n",
       "    <tr>\n",
       "      <th>434</th>\n",
       "      <td>SNLI</td>\n",
       "      <td>211596</td>\n",
       "      <td>10572</td>\n",
       "      <td>2025-01-05 14:37:04.160118</td>\n",
       "    </tr>\n",
       "    <tr>\n",
       "      <th>434</th>\n",
       "      <td>SNLI</td>\n",
       "      <td>207595</td>\n",
       "      <td>964</td>\n",
       "      <td>2025-01-06 11:09:22.067984</td>\n",
       "    </tr>\n",
       "    <tr>\n",
       "      <th>434</th>\n",
       "      <td>SNLI</td>\n",
       "      <td>213065</td>\n",
       "      <td>2986</td>\n",
       "      <td>2025-01-06 11:26:02.759483</td>\n",
       "    </tr>\n",
       "    <tr>\n",
       "      <th>434</th>\n",
       "      <td>SNLI</td>\n",
       "      <td>221124</td>\n",
       "      <td>12932</td>\n",
       "      <td>2025-01-06 12:17:03.524886</td>\n",
       "    </tr>\n",
       "    <tr>\n",
       "      <th>434</th>\n",
       "      <td>SNLI</td>\n",
       "      <td>224110</td>\n",
       "      <td>13526</td>\n",
       "      <td>2025-01-06 12:31:38.177095</td>\n",
       "    </tr>\n",
       "    <tr>\n",
       "      <th>434</th>\n",
       "      <td>SNLI</td>\n",
       "      <td>224860</td>\n",
       "      <td>15970</td>\n",
       "      <td>2025-01-06 12:56:39.837143</td>\n",
       "    </tr>\n",
       "    <tr>\n",
       "      <th>434</th>\n",
       "      <td>SNLI</td>\n",
       "      <td>224294</td>\n",
       "      <td>16357</td>\n",
       "      <td>2025-01-06 13:17:28.244115</td>\n",
       "    </tr>\n",
       "    <tr>\n",
       "      <th>434</th>\n",
       "      <td>SNLI</td>\n",
       "      <td>222778</td>\n",
       "      <td>18269</td>\n",
       "      <td>2025-01-06 14:03:27.423549</td>\n",
       "    </tr>\n",
       "    <tr>\n",
       "      <th>434</th>\n",
       "      <td>SNLI</td>\n",
       "      <td>219757</td>\n",
       "      <td>19373</td>\n",
       "      <td>2025-01-06 14:30:25.855893</td>\n",
       "    </tr>\n",
       "    <tr>\n",
       "      <th>434</th>\n",
       "      <td>SNLI</td>\n",
       "      <td>220460</td>\n",
       "      <td>19502</td>\n",
       "      <td>2025-01-06 14:37:46.069488</td>\n",
       "    </tr>\n",
       "    <tr>\n",
       "      <th>435</th>\n",
       "      <td>SNLI</td>\n",
       "      <td>1618</td>\n",
       "      <td>1756</td>\n",
       "      <td>2025-01-07 11:08:02.637475</td>\n",
       "    </tr>\n",
       "    <tr>\n",
       "      <th>435</th>\n",
       "      <td>SNLI</td>\n",
       "      <td>6656</td>\n",
       "      <td>3123</td>\n",
       "      <td>2025-01-07 11:25:21.013594</td>\n",
       "    </tr>\n",
       "    <tr>\n",
       "      <th>435</th>\n",
       "      <td>SNLI</td>\n",
       "      <td>160737</td>\n",
       "      <td>12016</td>\n",
       "      <td>2025-01-07 12:16:58.785101</td>\n",
       "    </tr>\n",
       "    <tr>\n",
       "      <th>435</th>\n",
       "      <td>SNLI</td>\n",
       "      <td>162387</td>\n",
       "      <td>12965</td>\n",
       "      <td>2025-01-07 12:31:01.067184</td>\n",
       "    </tr>\n",
       "    <tr>\n",
       "      <th>435</th>\n",
       "      <td>SNLI</td>\n",
       "      <td>162629</td>\n",
       "      <td>16581</td>\n",
       "      <td>2025-01-07 12:55:40.956981</td>\n",
       "    </tr>\n",
       "    <tr>\n",
       "      <th>435</th>\n",
       "      <td>SNLI</td>\n",
       "      <td>159617</td>\n",
       "      <td>18602</td>\n",
       "      <td>2025-01-07 13:17:26.038790</td>\n",
       "    </tr>\n",
       "    <tr>\n",
       "      <th>435</th>\n",
       "      <td>SNLI</td>\n",
       "      <td>159444</td>\n",
       "      <td>18392</td>\n",
       "      <td>2025-01-07 14:02:46.290543</td>\n",
       "    </tr>\n",
       "    <tr>\n",
       "      <th>435</th>\n",
       "      <td>SNLI</td>\n",
       "      <td>160197</td>\n",
       "      <td>19205</td>\n",
       "      <td>2025-01-07 14:30:02.758652</td>\n",
       "    </tr>\n",
       "    <tr>\n",
       "      <th>435</th>\n",
       "      <td>SNLI</td>\n",
       "      <td>161369</td>\n",
       "      <td>20126</td>\n",
       "      <td>2025-01-07 14:37:50.774469</td>\n",
       "    </tr>\n",
       "    <tr>\n",
       "      <th>435</th>\n",
       "      <td>SNLI</td>\n",
       "      <td>5176</td>\n",
       "      <td>7123</td>\n",
       "      <td>2025-01-08 11:08:41.148255</td>\n",
       "    </tr>\n",
       "    <tr>\n",
       "      <th>435</th>\n",
       "      <td>SNLI</td>\n",
       "      <td>109294</td>\n",
       "      <td>14199</td>\n",
       "      <td>2025-01-08 11:25:07.082502</td>\n",
       "    </tr>\n",
       "    <tr>\n",
       "      <th>435</th>\n",
       "      <td>SNLI</td>\n",
       "      <td>110263</td>\n",
       "      <td>21175</td>\n",
       "      <td>2025-01-08 12:15:41.865627</td>\n",
       "    </tr>\n",
       "    <tr>\n",
       "      <th>435</th>\n",
       "      <td>SNLI</td>\n",
       "      <td>109980</td>\n",
       "      <td>21153</td>\n",
       "      <td>2025-01-08 12:30:33.303430</td>\n",
       "    </tr>\n",
       "    <tr>\n",
       "      <th>435</th>\n",
       "      <td>SNLI</td>\n",
       "      <td>111579</td>\n",
       "      <td>21993</td>\n",
       "      <td>2025-01-08 12:55:43.460771</td>\n",
       "    </tr>\n",
       "    <tr>\n",
       "      <th>435</th>\n",
       "      <td>SNLI</td>\n",
       "      <td>115042</td>\n",
       "      <td>23159</td>\n",
       "      <td>2025-01-08 13:17:27.878577</td>\n",
       "    </tr>\n",
       "    <tr>\n",
       "      <th>435</th>\n",
       "      <td>SNLI</td>\n",
       "      <td>117665</td>\n",
       "      <td>24332</td>\n",
       "      <td>2025-01-08 14:03:10.711461</td>\n",
       "    </tr>\n",
       "    <tr>\n",
       "      <th>435</th>\n",
       "      <td>SNLI</td>\n",
       "      <td>116042</td>\n",
       "      <td>22185</td>\n",
       "      <td>2025-01-08 14:30:18.966839</td>\n",
       "    </tr>\n",
       "    <tr>\n",
       "      <th>435</th>\n",
       "      <td>SNLI</td>\n",
       "      <td>115065</td>\n",
       "      <td>23357</td>\n",
       "      <td>2025-01-08 14:37:41.889266</td>\n",
       "    </tr>\n",
       "  </tbody>\n",
       "</table>\n",
       "</div>"
      ],
      "text/plain": [
       "    index totalBuyQty totalSellQty                  timestamp\n",
       "434  SNLI        2976          950 2025-01-01 11:08:38.469359\n",
       "434  SNLI       15393         1889 2025-01-01 11:25:13.886984\n",
       "434  SNLI      117821         3573 2025-01-01 12:16:44.498276\n",
       "434  SNLI      117861         3742 2025-01-01 12:31:21.399839\n",
       "434  SNLI      117673         4375 2025-01-01 12:55:36.500189\n",
       "434  SNLI      120872         6212 2025-01-01 13:17:21.609275\n",
       "434  SNLI      120879         6564 2025-01-01 14:02:49.728837\n",
       "434  SNLI      119792         6469 2025-01-01 14:29:05.596801\n",
       "434  SNLI      119009         6790 2025-01-01 14:37:13.072795\n",
       "434  SNLI        2370          411 2025-01-02 11:08:40.158032\n",
       "434  SNLI      209816         2568 2025-01-02 11:25:40.220145\n",
       "434  SNLI      218620        10587 2025-01-03 11:07:48.954423\n",
       "434  SNLI      218620        10587 2025-01-03 11:25:00.543876\n",
       "434  SNLI      218620        10587 2025-01-03 12:15:03.221617\n",
       "434  SNLI      218620        10587 2025-01-03 12:30:04.921963\n",
       "434  SNLI      218620        10587 2025-01-03 12:55:20.748177\n",
       "434  SNLI      218620        10587 2025-01-03 13:17:05.910217\n",
       "434  SNLI      218620        10587 2025-01-03 14:02:35.365584\n",
       "434  SNLI      218620        10587 2025-01-03 14:28:32.577774\n",
       "434  SNLI      218620        10587 2025-01-03 14:36:54.357733\n",
       "434  SNLI        3856          550 2025-01-05 11:07:09.208274\n",
       "434  SNLI        6266         2546 2025-01-05 11:23:56.896122\n",
       "434  SNLI      208701         4868 2025-01-05 12:14:08.106087\n",
       "434  SNLI      210058         7276 2025-01-05 12:28:43.363699\n",
       "434  SNLI      209395         7992 2025-01-05 12:54:42.231423\n",
       "434  SNLI      210233         7901 2025-01-05 13:17:30.435004\n",
       "434  SNLI      212176         7519 2025-01-05 14:01:20.373548\n",
       "434  SNLI      211653         8002 2025-01-05 14:26:55.338707\n",
       "434  SNLI      211596        10572 2025-01-05 14:37:04.160118\n",
       "434  SNLI      207595          964 2025-01-06 11:09:22.067984\n",
       "434  SNLI      213065         2986 2025-01-06 11:26:02.759483\n",
       "434  SNLI      221124        12932 2025-01-06 12:17:03.524886\n",
       "434  SNLI      224110        13526 2025-01-06 12:31:38.177095\n",
       "434  SNLI      224860        15970 2025-01-06 12:56:39.837143\n",
       "434  SNLI      224294        16357 2025-01-06 13:17:28.244115\n",
       "434  SNLI      222778        18269 2025-01-06 14:03:27.423549\n",
       "434  SNLI      219757        19373 2025-01-06 14:30:25.855893\n",
       "434  SNLI      220460        19502 2025-01-06 14:37:46.069488\n",
       "435  SNLI        1618         1756 2025-01-07 11:08:02.637475\n",
       "435  SNLI        6656         3123 2025-01-07 11:25:21.013594\n",
       "435  SNLI      160737        12016 2025-01-07 12:16:58.785101\n",
       "435  SNLI      162387        12965 2025-01-07 12:31:01.067184\n",
       "435  SNLI      162629        16581 2025-01-07 12:55:40.956981\n",
       "435  SNLI      159617        18602 2025-01-07 13:17:26.038790\n",
       "435  SNLI      159444        18392 2025-01-07 14:02:46.290543\n",
       "435  SNLI      160197        19205 2025-01-07 14:30:02.758652\n",
       "435  SNLI      161369        20126 2025-01-07 14:37:50.774469\n",
       "435  SNLI        5176         7123 2025-01-08 11:08:41.148255\n",
       "435  SNLI      109294        14199 2025-01-08 11:25:07.082502\n",
       "435  SNLI      110263        21175 2025-01-08 12:15:41.865627\n",
       "435  SNLI      109980        21153 2025-01-08 12:30:33.303430\n",
       "435  SNLI      111579        21993 2025-01-08 12:55:43.460771\n",
       "435  SNLI      115042        23159 2025-01-08 13:17:27.878577\n",
       "435  SNLI      117665        24332 2025-01-08 14:03:10.711461\n",
       "435  SNLI      116042        22185 2025-01-08 14:30:18.966839\n",
       "435  SNLI      115065        23357 2025-01-08 14:37:41.889266"
      ]
     },
     "execution_count": 4,
     "metadata": {},
     "output_type": "execute_result"
    }
   ],
   "source": [
    "df3[df3['index']=='SNLI']"
   ]
  },
  {
   "cell_type": "code",
   "execution_count": 60,
   "metadata": {},
   "outputs": [
    {
     "data": {
      "text/plain": [
       "<Axes: xlabel='timestamp'>"
      ]
     },
     "execution_count": 60,
     "metadata": {},
     "output_type": "execute_result"
    },
    {
     "data": {
      "image/png": "[encoded data removed]",
      "text/plain": [
       "<Figure size 1000x500 with 1 Axes>"
      ]
     },
     "metadata": {},
     "output_type": "display_data"
    }
   ],
   "source": [
    "df3[df3['index']=='SNLI'].plot(x='timestamp', y=['totalBuyQty', 'totalSellQty'], figsize=(10, 5))"
   ]
  },
  {
   "cell_type": "code",
   "execution_count": 27,
   "metadata": {},
   "outputs": [],
   "source": [
    "for i in range(len(df['data'])):\n",
    "    df1=pd.DataFrame.from_dict(df['data'][i]).T[['totalBuyQty','totalSellQty']]\n",
    "    df1['timestamp']=df['timestamp'][i]\n",
    "    df1.reset_index(inplace=True)\n",
    "    if i==0:\n",
    "        df2=df1\n",
    "    else:\n",
    "        df2=pd.concat([df2,df1])"
   ]
  },
  {
   "cell_type": "code",
   "execution_count": 37,
   "metadata": {},
   "outputs": [
    {
     "data": {
      "text/html": [
       "<div>\n",
       "<style scoped>\n",
       "    .dataframe tbody tr th:only-of-type {\n",
       "        vertical-align: middle;\n",
       "    }\n",
       "\n",
       "    .dataframe tbody tr th {\n",
       "        vertical-align: top;\n",
       "    }\n",
       "\n",
       "    .dataframe thead th {\n",
       "        text-align: right;\n",
       "    }\n",
       "</style>\n",
       "<table border=\"1\" class=\"dataframe\">\n",
       "  <thead>\n",
       "    <tr style=\"text-align: right;\">\n",
       "      <th></th>\n",
       "      <th>index</th>\n",
       "      <th>totalBuyQty</th>\n",
       "      <th>totalSellQty</th>\n",
       "      <th>timestamp</th>\n",
       "    </tr>\n",
       "  </thead>\n",
       "  <tbody>\n",
       "    <tr>\n",
       "      <th>466</th>\n",
       "      <td>UPCL</td>\n",
       "      <td>8210</td>\n",
       "      <td>700</td>\n",
       "      <td>2025-01-01 11:08:38.469359</td>\n",
       "    </tr>\n",
       "    <tr>\n",
       "      <th>466</th>\n",
       "      <td>UPCL</td>\n",
       "      <td>26211</td>\n",
       "      <td>1160</td>\n",
       "      <td>2025-01-01 11:25:13.886984</td>\n",
       "    </tr>\n",
       "    <tr>\n",
       "      <th>466</th>\n",
       "      <td>UPCL</td>\n",
       "      <td>39489</td>\n",
       "      <td>8230</td>\n",
       "      <td>2025-01-01 12:16:44.498276</td>\n",
       "    </tr>\n",
       "    <tr>\n",
       "      <th>466</th>\n",
       "      <td>UPCL</td>\n",
       "      <td>41212</td>\n",
       "      <td>8765</td>\n",
       "      <td>2025-01-01 12:31:21.399839</td>\n",
       "    </tr>\n",
       "    <tr>\n",
       "      <th>466</th>\n",
       "      <td>UPCL</td>\n",
       "      <td>45140</td>\n",
       "      <td>11354</td>\n",
       "      <td>2025-01-01 12:55:36.500189</td>\n",
       "    </tr>\n",
       "    <tr>\n",
       "      <th>466</th>\n",
       "      <td>UPCL</td>\n",
       "      <td>45673</td>\n",
       "      <td>12282</td>\n",
       "      <td>2025-01-01 13:17:21.609275</td>\n",
       "    </tr>\n",
       "    <tr>\n",
       "      <th>466</th>\n",
       "      <td>UPCL</td>\n",
       "      <td>46773</td>\n",
       "      <td>17285</td>\n",
       "      <td>2025-01-01 14:02:49.728837</td>\n",
       "    </tr>\n",
       "    <tr>\n",
       "      <th>466</th>\n",
       "      <td>UPCL</td>\n",
       "      <td>49913</td>\n",
       "      <td>14801</td>\n",
       "      <td>2025-01-01 14:29:05.596801</td>\n",
       "    </tr>\n",
       "    <tr>\n",
       "      <th>466</th>\n",
       "      <td>UPCL</td>\n",
       "      <td>49262</td>\n",
       "      <td>15555</td>\n",
       "      <td>2025-01-01 14:37:13.072795</td>\n",
       "    </tr>\n",
       "  </tbody>\n",
       "</table>\n",
       "</div>"
      ],
      "text/plain": [
       "    index totalBuyQty totalSellQty                  timestamp\n",
       "466  UPCL        8210          700 2025-01-01 11:08:38.469359\n",
       "466  UPCL       26211         1160 2025-01-01 11:25:13.886984\n",
       "466  UPCL       39489         8230 2025-01-01 12:16:44.498276\n",
       "466  UPCL       41212         8765 2025-01-01 12:31:21.399839\n",
       "466  UPCL       45140        11354 2025-01-01 12:55:36.500189\n",
       "466  UPCL       45673        12282 2025-01-01 13:17:21.609275\n",
       "466  UPCL       46773        17285 2025-01-01 14:02:49.728837\n",
       "466  UPCL       49913        14801 2025-01-01 14:29:05.596801\n",
       "466  UPCL       49262        15555 2025-01-01 14:37:13.072795"
      ]
     },
     "execution_count": 37,
     "metadata": {},
     "output_type": "execute_result"
    }
   ],
   "source": [
    "df2[df2['index']=='UPCL']"
   ]
  },
  {
   "cell_type": "code",
   "execution_count": 42,
   "metadata": {},
   "outputs": [
    {
     "name": "stdout",
     "output_type": "stream",
     "text": [
      "{'open': 700, 'high': 17285, 'low': 700, 'close': 15555}\n"
     ]
    }
   ],
   "source": [
    "def get_ohlc_data(df, script,qty_type):\n",
    "    # Filter the dataframe for the given script\n",
    "    script_data = df[df['index'] == script]\n",
    "\n",
    "    # Ensure the data is sorted by timestamp\n",
    "    script_data = script_data.sort_values(by='timestamp')\n",
    "\n",
    "    # Get the OHLC data\n",
    "    ohlc_data = {\n",
    "        'open': script_data.iloc[0][qty_type],\n",
    "        'high': script_data[qty_type].max(),\n",
    "        'low': script_data[qty_type].min(),\n",
    "        'close': script_data.iloc[-1][qty_type]\n",
    "    }\n",
    "    return ohlc_data\n",
    "\n",
    "# Example usage\n",
    "ohlc_data = get_ohlc_data(df2, 'UPCL','totalSellQty')\n",
    "print(ohlc_data)"
   ]
  },
  {
   "cell_type": "code",
   "execution_count": 43,
   "metadata": {},
   "outputs": [
    {
     "data": {
      "text/plain": [
       "<Axes: xlabel='timestamp'>"
      ]
     },
     "execution_count": 43,
     "metadata": {},
     "output_type": "execute_result"
    },
    {
     "data": {
      "image/png": "[encoded data removed]",
      "text/plain": [
       "<Figure size 640x480 with 1 Axes>"
      ]
     },
     "metadata": {},
     "output_type": "display_data"
    }
   ],
   "source": [
    "df2[df2['index']=='SHIVM'].plot(x='timestamp',y=['totalBuyQty','totalSellQty'])"
   ]
  },
  {
   "cell_type": "code",
   "execution_count": 22,
   "metadata": {},
   "outputs": [
    {
     "ename": "KeyError",
     "evalue": "'symbol'",
     "output_type": "error",
     "traceback": [
      "\u001b[1;31m---------------------------------------------------------------------------\u001b[0m",
      "\u001b[1;31mKeyError\u001b[0m                                  Traceback (most recent call last)",
      "File \u001b[1;32mc:\\Users\\Dell\\AppData\\Local\\Programs\\Python\\Python311\\Lib\\site-packages\\pandas\\core\\indexes\\base.py:3805\u001b[0m, in \u001b[0;36mIndex.get_loc\u001b[1;34m(self, key)\u001b[0m\n\u001b[0;32m   3804\u001b[0m \u001b[38;5;28;01mtry\u001b[39;00m:\n\u001b[1;32m-> 3805\u001b[0m     \u001b[38;5;28;01mreturn\u001b[39;00m \u001b[38;5;28;43mself\u001b[39;49m\u001b[38;5;241;43m.\u001b[39;49m\u001b[43m_engine\u001b[49m\u001b[38;5;241;43m.\u001b[39;49m\u001b[43mget_loc\u001b[49m\u001b[43m(\u001b[49m\u001b[43mcasted_key\u001b[49m\u001b[43m)\u001b[49m\n\u001b[0;32m   3806\u001b[0m \u001b[38;5;28;01mexcept\u001b[39;00m \u001b[38;5;167;01mKeyError\u001b[39;00m \u001b[38;5;28;01mas\u001b[39;00m err:\n",
      "File \u001b[1;32mindex.pyx:167\u001b[0m, in \u001b[0;36mpandas._libs.index.IndexEngine.get_loc\u001b[1;34m()\u001b[0m\n",
      "File \u001b[1;32mindex.pyx:196\u001b[0m, in \u001b[0;36mpandas._libs.index.IndexEngine.get_loc\u001b[1;34m()\u001b[0m\n",
      "File \u001b[1;32mpandas\\\\_libs\\\\hashtable_class_helper.pxi:7081\u001b[0m, in \u001b[0;36mpandas._libs.hashtable.PyObjectHashTable.get_item\u001b[1;34m()\u001b[0m\n",
      "File \u001b[1;32mpandas\\\\_libs\\\\hashtable_class_helper.pxi:7089\u001b[0m, in \u001b[0;36mpandas._libs.hashtable.PyObjectHashTable.get_item\u001b[1;34m()\u001b[0m\n",
      "\u001b[1;31mKeyError\u001b[0m: 'symbol'",
      "\nThe above exception was the direct cause of the following exception:\n",
      "\u001b[1;31mKeyError\u001b[0m                                  Traceback (most recent call last)",
      "Cell \u001b[1;32mIn[22], line 1\u001b[0m\n\u001b[1;32m----> 1\u001b[0m df2[\u001b[43mdf2\u001b[49m\u001b[43m[\u001b[49m\u001b[38;5;124;43m'\u001b[39;49m\u001b[38;5;124;43msymbol\u001b[39;49m\u001b[38;5;124;43m'\u001b[39;49m\u001b[43m]\u001b[49m\u001b[38;5;241m==\u001b[39m\u001b[38;5;124m'\u001b[39m\u001b[38;5;124mSMHL\u001b[39m\u001b[38;5;124m'\u001b[39m]\n",
      "File \u001b[1;32mc:\\Users\\Dell\\AppData\\Local\\Programs\\Python\\Python311\\Lib\\site-packages\\pandas\\core\\frame.py:4102\u001b[0m, in \u001b[0;36mDataFrame.__getitem__\u001b[1;34m(self, key)\u001b[0m\n\u001b[0;32m   4100\u001b[0m \u001b[38;5;28;01mif\u001b[39;00m \u001b[38;5;28mself\u001b[39m\u001b[38;5;241m.\u001b[39mcolumns\u001b[38;5;241m.\u001b[39mnlevels \u001b[38;5;241m>\u001b[39m \u001b[38;5;241m1\u001b[39m:\n\u001b[0;32m   4101\u001b[0m     \u001b[38;5;28;01mreturn\u001b[39;00m \u001b[38;5;28mself\u001b[39m\u001b[38;5;241m.\u001b[39m_getitem_multilevel(key)\n\u001b[1;32m-> 4102\u001b[0m indexer \u001b[38;5;241m=\u001b[39m \u001b[38;5;28;43mself\u001b[39;49m\u001b[38;5;241;43m.\u001b[39;49m\u001b[43mcolumns\u001b[49m\u001b[38;5;241;43m.\u001b[39;49m\u001b[43mget_loc\u001b[49m\u001b[43m(\u001b[49m\u001b[43mkey\u001b[49m\u001b[43m)\u001b[49m\n\u001b[0;32m   4103\u001b[0m \u001b[38;5;28;01mif\u001b[39;00m is_integer(indexer):\n\u001b[0;32m   4104\u001b[0m     indexer \u001b[38;5;241m=\u001b[39m [indexer]\n",
      "File \u001b[1;32mc:\\Users\\Dell\\AppData\\Local\\Programs\\Python\\Python311\\Lib\\site-packages\\pandas\\core\\indexes\\base.py:3812\u001b[0m, in \u001b[0;36mIndex.get_loc\u001b[1;34m(self, key)\u001b[0m\n\u001b[0;32m   3807\u001b[0m     \u001b[38;5;28;01mif\u001b[39;00m \u001b[38;5;28misinstance\u001b[39m(casted_key, \u001b[38;5;28mslice\u001b[39m) \u001b[38;5;129;01mor\u001b[39;00m (\n\u001b[0;32m   3808\u001b[0m         \u001b[38;5;28misinstance\u001b[39m(casted_key, abc\u001b[38;5;241m.\u001b[39mIterable)\n\u001b[0;32m   3809\u001b[0m         \u001b[38;5;129;01mand\u001b[39;00m \u001b[38;5;28many\u001b[39m(\u001b[38;5;28misinstance\u001b[39m(x, \u001b[38;5;28mslice\u001b[39m) \u001b[38;5;28;01mfor\u001b[39;00m x \u001b[38;5;129;01min\u001b[39;00m casted_key)\n\u001b[0;32m   3810\u001b[0m     ):\n\u001b[0;32m   3811\u001b[0m         \u001b[38;5;28;01mraise\u001b[39;00m InvalidIndexError(key)\n\u001b[1;32m-> 3812\u001b[0m     \u001b[38;5;28;01mraise\u001b[39;00m \u001b[38;5;167;01mKeyError\u001b[39;00m(key) \u001b[38;5;28;01mfrom\u001b[39;00m \u001b[38;5;21;01merr\u001b[39;00m\n\u001b[0;32m   3813\u001b[0m \u001b[38;5;28;01mexcept\u001b[39;00m \u001b[38;5;167;01mTypeError\u001b[39;00m:\n\u001b[0;32m   3814\u001b[0m     \u001b[38;5;66;03m# If we have a listlike key, _check_indexing_error will raise\u001b[39;00m\n\u001b[0;32m   3815\u001b[0m     \u001b[38;5;66;03m#  InvalidIndexError. Otherwise we fall through and re-raise\u001b[39;00m\n\u001b[0;32m   3816\u001b[0m     \u001b[38;5;66;03m#  the TypeError.\u001b[39;00m\n\u001b[0;32m   3817\u001b[0m     \u001b[38;5;28mself\u001b[39m\u001b[38;5;241m.\u001b[39m_check_indexing_error(key)\n",
      "\u001b[1;31mKeyError\u001b[0m: 'symbol'"
     ]
    }
   ],
   "source": [
    "df2[df2['symbol']=='SMHL']"
   ]
  },
  {
   "cell_type": "code",
   "execution_count": 21,
   "metadata": {},
   "outputs": [],
   "source": [
    "\n",
    "pd.DataFrame.from_dict(await nepse.getCompanyList()).to_clipboard()"
   ]
  },
  {
   "cell_type": "code",
   "execution_count": 20,
   "metadata": {},
   "outputs": [
    {
     "data": {
      "text/plain": [
       "{'isOpen': 'CLOSE', 'asOf': '2024-12-26T15:00:00', 'id': 80}"
      ]
     },
     "execution_count": 20,
     "metadata": {},
     "output_type": "execute_result"
    }
   ],
   "source": [
    "await nepse.getMarketStatus()"
   ]
  },
  {
   "cell_type": "code",
   "execution_count": 9,
   "metadata": {},
   "outputs": [
    {
     "ename": "ValueError",
     "evalue": "If using all scalar values, you must pass an index",
     "output_type": "error",
     "traceback": [
      "\u001b[1;31m---------------------------------------------------------------------------\u001b[0m",
      "\u001b[1;31mValueError\u001b[0m                                Traceback (most recent call last)",
      "Cell \u001b[1;32mIn[9], line 1\u001b[0m\n\u001b[1;32m----> 1\u001b[0m \u001b[43mpd\u001b[49m\u001b[38;5;241;43m.\u001b[39;49m\u001b[43mDataFrame\u001b[49m\u001b[38;5;241;43m.\u001b[39;49m\u001b[43mfrom_dict\u001b[49m\u001b[43m(\u001b[49m\u001b[43mdf\u001b[49m\u001b[43m[\u001b[49m\u001b[38;5;124;43m'\u001b[39;49m\u001b[38;5;124;43mdata\u001b[39;49m\u001b[38;5;124;43m'\u001b[39;49m\u001b[43m]\u001b[49m\u001b[43m[\u001b[49m\u001b[38;5;241;43m0\u001b[39;49m\u001b[43m]\u001b[49m\u001b[43m)\u001b[49m\n",
      "File \u001b[1;32mc:\\Users\\Dell\\AppData\\Local\\Programs\\Python\\Python311\\Lib\\site-packages\\pandas\\core\\frame.py:1917\u001b[0m, in \u001b[0;36mDataFrame.from_dict\u001b[1;34m(cls, data, orient, dtype, columns)\u001b[0m\n\u001b[0;32m   1911\u001b[0m     \u001b[38;5;28;01mraise\u001b[39;00m \u001b[38;5;167;01mValueError\u001b[39;00m(\n\u001b[0;32m   1912\u001b[0m         \u001b[38;5;124mf\u001b[39m\u001b[38;5;124m\"\u001b[39m\u001b[38;5;124mExpected \u001b[39m\u001b[38;5;124m'\u001b[39m\u001b[38;5;124mindex\u001b[39m\u001b[38;5;124m'\u001b[39m\u001b[38;5;124m, \u001b[39m\u001b[38;5;124m'\u001b[39m\u001b[38;5;124mcolumns\u001b[39m\u001b[38;5;124m'\u001b[39m\u001b[38;5;124m or \u001b[39m\u001b[38;5;124m'\u001b[39m\u001b[38;5;124mtight\u001b[39m\u001b[38;5;124m'\u001b[39m\u001b[38;5;124m for orient parameter. \u001b[39m\u001b[38;5;124m\"\u001b[39m\n\u001b[0;32m   1913\u001b[0m         \u001b[38;5;124mf\u001b[39m\u001b[38;5;124m\"\u001b[39m\u001b[38;5;124mGot \u001b[39m\u001b[38;5;124m'\u001b[39m\u001b[38;5;132;01m{\u001b[39;00morient\u001b[38;5;132;01m}\u001b[39;00m\u001b[38;5;124m'\u001b[39m\u001b[38;5;124m instead\u001b[39m\u001b[38;5;124m\"\u001b[39m\n\u001b[0;32m   1914\u001b[0m     )\n\u001b[0;32m   1916\u001b[0m \u001b[38;5;28;01mif\u001b[39;00m orient \u001b[38;5;241m!=\u001b[39m \u001b[38;5;124m\"\u001b[39m\u001b[38;5;124mtight\u001b[39m\u001b[38;5;124m\"\u001b[39m:\n\u001b[1;32m-> 1917\u001b[0m     \u001b[38;5;28;01mreturn\u001b[39;00m \u001b[38;5;28;43mcls\u001b[39;49m\u001b[43m(\u001b[49m\u001b[43mdata\u001b[49m\u001b[43m,\u001b[49m\u001b[43m \u001b[49m\u001b[43mindex\u001b[49m\u001b[38;5;241;43m=\u001b[39;49m\u001b[43mindex\u001b[49m\u001b[43m,\u001b[49m\u001b[43m \u001b[49m\u001b[43mcolumns\u001b[49m\u001b[38;5;241;43m=\u001b[39;49m\u001b[43mcolumns\u001b[49m\u001b[43m,\u001b[49m\u001b[43m \u001b[49m\u001b[43mdtype\u001b[49m\u001b[38;5;241;43m=\u001b[39;49m\u001b[43mdtype\u001b[49m\u001b[43m)\u001b[49m\n\u001b[0;32m   1918\u001b[0m \u001b[38;5;28;01melse\u001b[39;00m:\n\u001b[0;32m   1919\u001b[0m     realdata \u001b[38;5;241m=\u001b[39m data[\u001b[38;5;124m\"\u001b[39m\u001b[38;5;124mdata\u001b[39m\u001b[38;5;124m\"\u001b[39m]\n",
      "File \u001b[1;32mc:\\Users\\Dell\\AppData\\Local\\Programs\\Python\\Python311\\Lib\\site-packages\\pandas\\core\\frame.py:778\u001b[0m, in \u001b[0;36mDataFrame.__init__\u001b[1;34m(self, data, index, columns, dtype, copy)\u001b[0m\n\u001b[0;32m    772\u001b[0m     mgr \u001b[38;5;241m=\u001b[39m \u001b[38;5;28mself\u001b[39m\u001b[38;5;241m.\u001b[39m_init_mgr(\n\u001b[0;32m    773\u001b[0m         data, axes\u001b[38;5;241m=\u001b[39m{\u001b[38;5;124m\"\u001b[39m\u001b[38;5;124mindex\u001b[39m\u001b[38;5;124m\"\u001b[39m: index, \u001b[38;5;124m\"\u001b[39m\u001b[38;5;124mcolumns\u001b[39m\u001b[38;5;124m\"\u001b[39m: columns}, dtype\u001b[38;5;241m=\u001b[39mdtype, copy\u001b[38;5;241m=\u001b[39mcopy\n\u001b[0;32m    774\u001b[0m     )\n\u001b[0;32m    776\u001b[0m \u001b[38;5;28;01melif\u001b[39;00m \u001b[38;5;28misinstance\u001b[39m(data, \u001b[38;5;28mdict\u001b[39m):\n\u001b[0;32m    777\u001b[0m     \u001b[38;5;66;03m# GH#38939 de facto copy defaults to False only in non-dict cases\u001b[39;00m\n\u001b[1;32m--> 778\u001b[0m     mgr \u001b[38;5;241m=\u001b[39m \u001b[43mdict_to_mgr\u001b[49m\u001b[43m(\u001b[49m\u001b[43mdata\u001b[49m\u001b[43m,\u001b[49m\u001b[43m \u001b[49m\u001b[43mindex\u001b[49m\u001b[43m,\u001b[49m\u001b[43m \u001b[49m\u001b[43mcolumns\u001b[49m\u001b[43m,\u001b[49m\u001b[43m \u001b[49m\u001b[43mdtype\u001b[49m\u001b[38;5;241;43m=\u001b[39;49m\u001b[43mdtype\u001b[49m\u001b[43m,\u001b[49m\u001b[43m \u001b[49m\u001b[43mcopy\u001b[49m\u001b[38;5;241;43m=\u001b[39;49m\u001b[43mcopy\u001b[49m\u001b[43m,\u001b[49m\u001b[43m \u001b[49m\u001b[43mtyp\u001b[49m\u001b[38;5;241;43m=\u001b[39;49m\u001b[43mmanager\u001b[49m\u001b[43m)\u001b[49m\n\u001b[0;32m    779\u001b[0m \u001b[38;5;28;01melif\u001b[39;00m \u001b[38;5;28misinstance\u001b[39m(data, ma\u001b[38;5;241m.\u001b[39mMaskedArray):\n\u001b[0;32m    780\u001b[0m     \u001b[38;5;28;01mfrom\u001b[39;00m \u001b[38;5;21;01mnumpy\u001b[39;00m\u001b[38;5;21;01m.\u001b[39;00m\u001b[38;5;21;01mma\u001b[39;00m \u001b[38;5;28;01mimport\u001b[39;00m mrecords\n",
      "File \u001b[1;32mc:\\Users\\Dell\\AppData\\Local\\Programs\\Python\\Python311\\Lib\\site-packages\\pandas\\core\\internals\\construction.py:503\u001b[0m, in \u001b[0;36mdict_to_mgr\u001b[1;34m(data, index, columns, dtype, typ, copy)\u001b[0m\n\u001b[0;32m    499\u001b[0m     \u001b[38;5;28;01melse\u001b[39;00m:\n\u001b[0;32m    500\u001b[0m         \u001b[38;5;66;03m# dtype check to exclude e.g. range objects, scalars\u001b[39;00m\n\u001b[0;32m    501\u001b[0m         arrays \u001b[38;5;241m=\u001b[39m [x\u001b[38;5;241m.\u001b[39mcopy() \u001b[38;5;28;01mif\u001b[39;00m \u001b[38;5;28mhasattr\u001b[39m(x, \u001b[38;5;124m\"\u001b[39m\u001b[38;5;124mdtype\u001b[39m\u001b[38;5;124m\"\u001b[39m) \u001b[38;5;28;01melse\u001b[39;00m x \u001b[38;5;28;01mfor\u001b[39;00m x \u001b[38;5;129;01min\u001b[39;00m arrays]\n\u001b[1;32m--> 503\u001b[0m \u001b[38;5;28;01mreturn\u001b[39;00m \u001b[43marrays_to_mgr\u001b[49m\u001b[43m(\u001b[49m\u001b[43marrays\u001b[49m\u001b[43m,\u001b[49m\u001b[43m \u001b[49m\u001b[43mcolumns\u001b[49m\u001b[43m,\u001b[49m\u001b[43m \u001b[49m\u001b[43mindex\u001b[49m\u001b[43m,\u001b[49m\u001b[43m \u001b[49m\u001b[43mdtype\u001b[49m\u001b[38;5;241;43m=\u001b[39;49m\u001b[43mdtype\u001b[49m\u001b[43m,\u001b[49m\u001b[43m \u001b[49m\u001b[43mtyp\u001b[49m\u001b[38;5;241;43m=\u001b[39;49m\u001b[43mtyp\u001b[49m\u001b[43m,\u001b[49m\u001b[43m \u001b[49m\u001b[43mconsolidate\u001b[49m\u001b[38;5;241;43m=\u001b[39;49m\u001b[43mcopy\u001b[49m\u001b[43m)\u001b[49m\n",
      "File \u001b[1;32mc:\\Users\\Dell\\AppData\\Local\\Programs\\Python\\Python311\\Lib\\site-packages\\pandas\\core\\internals\\construction.py:114\u001b[0m, in \u001b[0;36marrays_to_mgr\u001b[1;34m(arrays, columns, index, dtype, verify_integrity, typ, consolidate)\u001b[0m\n\u001b[0;32m    111\u001b[0m \u001b[38;5;28;01mif\u001b[39;00m verify_integrity:\n\u001b[0;32m    112\u001b[0m     \u001b[38;5;66;03m# figure out the index, if necessary\u001b[39;00m\n\u001b[0;32m    113\u001b[0m     \u001b[38;5;28;01mif\u001b[39;00m index \u001b[38;5;129;01mis\u001b[39;00m \u001b[38;5;28;01mNone\u001b[39;00m:\n\u001b[1;32m--> 114\u001b[0m         index \u001b[38;5;241m=\u001b[39m \u001b[43m_extract_index\u001b[49m\u001b[43m(\u001b[49m\u001b[43marrays\u001b[49m\u001b[43m)\u001b[49m\n\u001b[0;32m    115\u001b[0m     \u001b[38;5;28;01melse\u001b[39;00m:\n\u001b[0;32m    116\u001b[0m         index \u001b[38;5;241m=\u001b[39m ensure_index(index)\n",
      "File \u001b[1;32mc:\\Users\\Dell\\AppData\\Local\\Programs\\Python\\Python311\\Lib\\site-packages\\pandas\\core\\internals\\construction.py:667\u001b[0m, in \u001b[0;36m_extract_index\u001b[1;34m(data)\u001b[0m\n\u001b[0;32m    664\u001b[0m         \u001b[38;5;28;01mraise\u001b[39;00m \u001b[38;5;167;01mValueError\u001b[39;00m(\u001b[38;5;124m\"\u001b[39m\u001b[38;5;124mPer-column arrays must each be 1-dimensional\u001b[39m\u001b[38;5;124m\"\u001b[39m)\n\u001b[0;32m    666\u001b[0m \u001b[38;5;28;01mif\u001b[39;00m \u001b[38;5;129;01mnot\u001b[39;00m indexes \u001b[38;5;129;01mand\u001b[39;00m \u001b[38;5;129;01mnot\u001b[39;00m raw_lengths:\n\u001b[1;32m--> 667\u001b[0m     \u001b[38;5;28;01mraise\u001b[39;00m \u001b[38;5;167;01mValueError\u001b[39;00m(\u001b[38;5;124m\"\u001b[39m\u001b[38;5;124mIf using all scalar values, you must pass an index\u001b[39m\u001b[38;5;124m\"\u001b[39m)\n\u001b[0;32m    669\u001b[0m \u001b[38;5;28;01mif\u001b[39;00m have_series:\n\u001b[0;32m    670\u001b[0m     index \u001b[38;5;241m=\u001b[39m union_indexes(indexes)\n",
      "\u001b[1;31mValueError\u001b[0m: If using all scalar values, you must pass an index"
     ]
    }
   ],
   "source": [
    "pd.DataFrame.from_dict(df['data'][0])"
   ]
  },
  {
   "cell_type": "code",
   "execution_count": 3,
   "metadata": {},
   "outputs": [
    {
     "data": {
      "text/plain": [
       "'2024-12-26_18-52-50'"
      ]
     },
     "execution_count": 3,
     "metadata": {},
     "output_type": "execute_result"
    }
   ],
   "source": [
    "datetime.now().strftime(\"%Y-%m-%d_%H-%M-%S\")"
   ]
  },
  {
   "cell_type": "code",
   "execution_count": 6,
   "metadata": {},
   "outputs": [
    {
     "data": {
      "text/plain": [
       "'2024-12-26_13-39-34'"
      ]
     },
     "execution_count": 6,
     "metadata": {},
     "output_type": "execute_result"
    }
   ],
   "source": [
    "from datetime import timedelta\n",
    "\n",
    "adjusted_time = datetime.now() - timedelta(hours=5, minutes=45)\n",
    "adjusted_time.strftime(\"%Y-%m-%d_%H-%M-%S\")"
   ]
  },
  {
   "cell_type": "code",
   "execution_count": 21,
   "metadata": {},
   "outputs": [],
   "source": [
    "def get_id(dep_dict):\n",
    "    if isinstance(dep_dict, dict) and 'buyMarketDepthList' in dep_dict:\n",
    "        try:\n",
    "            return dep_dict.get('buyMarketDepthList')[0].get('stockId')\n",
    "        except (IndexError, AttributeError):\n",
    "            return None  # Return None if the structure isn't as expected\n",
    "    return None  # Return None for non-dictionaries or invalid inputs"
   ]
  },
  {
   "cell_type": "code",
   "execution_count": 38,
   "metadata": {},
   "outputs": [],
   "source": [
    "pd.DataFrame.from_dict(await nepse.getCompanyList()).to_clipboard()"
   ]
  },
  {
   "cell_type": "code",
   "execution_count": null,
   "metadata": {},
   "outputs": [],
   "source": [
    "adjusted_time = datetime.now() - pd.Timedelta(hours=5, minutes=45)\n",
    "adjusted_time.strftime(\"%Y-%m-%d_%H-%M-%S\")"
   ]
  },
  {
   "cell_type": "code",
   "execution_count": 2,
   "metadata": {},
   "outputs": [],
   "source": [
    "nepse = AsyncNepse()\n",
    "nepse.setTLSVerification(False)  # Temporary, until NEPSE sorts its SSL certificate problem\n",
    "\n",
    "async def fetch_company_details():\n",
    "    # Fetch the list of companies\n",
    "    company_list = await nepse.getCompanyList()\n",
    "\n",
    "    # Fetch details for each company concurrently\n",
    "    tasks = [\n",
    "        nepse.getCompanyDetails(company['symbol']) \n",
    "        for company in company_list \n",
    "        if company['status'] == 'A'\n",
    "    ]\n",
    "\n",
    "    company_details = await asyncio.gather(*tasks)\n",
    "\n",
    "    # Combine company and details\n",
    "    result = []\n",
    "    for company, details in zip(company_list, company_details):\n",
    "        # If details is a list, handle it appropriately\n",
    "        if isinstance(details, list):\n",
    "            # Add details as a key-value pair\n",
    "            result.append({**company, \"details\": details})\n",
    "        elif isinstance(details, dict):\n",
    "            # Merge dictionaries directly\n",
    "            result.append({**company, **details})\n",
    "        else:\n",
    "            # Handle unexpected formats (optional)\n",
    "            result.append({**company, \"details\": str(details)})\n",
    "\n",
    "    return result"
   ]
  },
  {
   "cell_type": "code",
   "execution_count": 28,
   "metadata": {},
   "outputs": [
    {
     "ename": "NameError",
     "evalue": "name 'nepse' is not defined",
     "output_type": "error",
     "traceback": [
      "\u001b[1;31m---------------------------------------------------------------------------\u001b[0m",
      "\u001b[1;31mNameError\u001b[0m                                 Traceback (most recent call last)",
      "Cell \u001b[1;32mIn[28], line 1\u001b[0m\n\u001b[1;32m----> 1\u001b[0m df\u001b[38;5;241m=\u001b[39mpd\u001b[38;5;241m.\u001b[39mDataFrame\u001b[38;5;241m.\u001b[39mfrom_dict(\u001b[38;5;28;01mawait\u001b[39;00m \u001b[43mnepse\u001b[49m\u001b[38;5;241m.\u001b[39mgetSecurityList())\n",
      "\u001b[1;31mNameError\u001b[0m: name 'nepse' is not defined"
     ]
    }
   ],
   "source": [
    "df=pd.DataFrame.from_dict(await nepse.getSecurityList())"
   ]
  },
  {
   "cell_type": "code",
   "execution_count": 5,
   "metadata": {},
   "outputs": [
    {
     "name": "stderr",
     "output_type": "stream",
     "text": [
      "c:\\Users\\Dell\\AppData\\Local\\Programs\\Python\\Python311\\Lib\\asyncio\\base_events.py:106: RuntimeWarning: coroutine 'main' was never awaited\n",
      "  if proto not in {0, socket.IPPROTO_TCP, socket.IPPROTO_UDP} or \\\n",
      "RuntimeWarning: Enable tracemalloc to get the object allocation traceback\n"
     ]
    }
   ],
   "source": [
    "async def main():\n",
    "    results = await fetch_company_details()\n",
    "\n",
    "    # Ensure the \"files/\" directory exists\n",
    "    os.makedirs(\"files\", exist_ok=True)\n",
    "\n",
    "    # Generate filename with timestamp\n",
    "    now = datetime.now()\n",
    "    filename = now.strftime(\"%Y-%m-%d_%H-%M-%S\")\n",
    "    pd.DataFrame.from_dict(results).to_excel(f\"files/{filename}.xlsx\", index=False)\n",
    "\n",
    "# Execute the main function\n",
    "# asyncio.run(main()) ## This is not working in Jupyter Notebook, but in py file it must be the function\n",
    "await main()"
   ]
  },
  {
   "cell_type": "code",
   "execution_count": null,
   "metadata": {},
   "outputs": [],
   "source": []
  },
  {
   "cell_type": "code",
   "execution_count": null,
   "metadata": {},
   "outputs": [],
   "source": []
  },
  {
   "cell_type": "code",
   "execution_count": 105,
   "metadata": {},
   "outputs": [
    {
     "data": {
      "application/vnd.plotly.v1+json": {
       "config": {
        "plotlyServerURL": "https://plot.ly"
       },
       "data": [
        {
         "close": [
          72338,
          67019,
          419,
          419,
          44886,
          46785,
          34047,
          30768,
          70493,
          65184,
          21779,
          146112,
          52806,
          17862,
          57610,
          33805,
          81288,
          87300,
          28444,
          57062,
          18751,
          37649,
          30043,
          84465,
          29419,
          18981,
          47729,
          17222,
          24414,
          13727,
          7857,
          16038,
          48890
         ],
         "high": [
          96874,
          93428,
          419,
          419,
          76898,
          46785,
          41203,
          40347,
          73892,
          65977,
          23813,
          146112,
          52806,
          53382,
          59793,
          42302,
          111054,
          87300,
          84063,
          58554,
          50027,
          37649,
          40113,
          84465,
          49184,
          47605,
          47729,
          17222,
          62812,
          14938,
          12214,
          21690,
          49128
         ],
         "low": [
          49440,
          49296,
          419,
          419,
          16020,
          14107,
          19440,
          16582,
          12512,
          41726,
          8415,
          146112,
          38051,
          16503,
          15580,
          19270,
          11538,
          19453,
          6624,
          34210,
          18751,
          7638,
          20137,
          13408,
          11194,
          18981,
          34800,
          9440,
          4269,
          3615,
          5227,
          2046,
          5122
         ],
         "open": [
          49440,
          49296,
          419,
          419,
          16020,
          14107,
          20045,
          16582,
          12512,
          44235,
          8415,
          146112,
          38051,
          53382,
          48323,
          19270,
          27835,
          20345,
          6624,
          34210,
          18868,
          7638,
          30302,
          13408,
          11194,
          47605,
          34800,
          9440,
          4269,
          3615,
          5278,
          2046,
          5122
         ],
         "type": "candlestick",
         "x": [
          "2022-02-23T00:00:00",
          "2022-02-24T00:00:00",
          "2022-02-25T00:00:00",
          "2022-02-26T00:00:00",
          "2022-02-27T00:00:00",
          "2022-02-28T00:00:00",
          "2022-03-02T00:00:00",
          "2022-03-06T00:00:00",
          "2022-03-07T00:00:00",
          "2022-03-09T00:00:00",
          "2022-03-10T00:00:00",
          "2022-03-13T00:00:00",
          "2022-03-14T00:00:00",
          "2022-03-15T00:00:00",
          "2022-03-16T00:00:00",
          "2022-03-20T00:00:00",
          "2022-03-21T00:00:00",
          "2022-03-22T00:00:00",
          "2022-03-23T00:00:00",
          "2022-03-24T00:00:00",
          "2022-03-27T00:00:00",
          "2022-03-28T00:00:00",
          "2022-03-29T00:00:00",
          "2022-03-30T00:00:00",
          "2022-03-31T00:00:00",
          "2022-04-03T00:00:00",
          "2022-04-04T00:00:00",
          "2022-04-05T00:00:00",
          "2022-04-06T00:00:00",
          "2022-04-07T00:00:00",
          "2022-04-11T00:00:00",
          "2022-04-12T00:00:00",
          "2022-04-13T00:00:00"
         ]
        }
       ],
       "layout": {
        "template": {
         "data": {
          "bar": [
           {
            "error_x": {
             "color": "#2a3f5f"
            },
            "error_y": {
             "color": "#2a3f5f"
            },
            "marker": {
             "line": {
              "color": "#E5ECF6",
              "width": 0.5
             },
             "pattern": {
              "fillmode": "overlay",
              "size": 10,
              "solidity": 0.2
             }
            },
            "type": "bar"
           }
          ],
          "barpolar": [
           {
            "marker": {
             "line": {
              "color": "#E5ECF6",
              "width": 0.5
             },
             "pattern": {
              "fillmode": "overlay",
              "size": 10,
              "solidity": 0.2
             }
            },
            "type": "barpolar"
           }
          ],
          "carpet": [
           {
            "aaxis": {
             "endlinecolor": "#2a3f5f",
             "gridcolor": "white",
             "linecolor": "white",
             "minorgridcolor": "white",
             "startlinecolor": "#2a3f5f"
            },
            "baxis": {
             "endlinecolor": "#2a3f5f",
             "gridcolor": "white",
             "linecolor": "white",
             "minorgridcolor": "white",
             "startlinecolor": "#2a3f5f"
            },
            "type": "carpet"
           }
          ],
          "choropleth": [
           {
            "colorbar": {
             "outlinewidth": 0,
             "ticks": ""
            },
            "type": "choropleth"
           }
          ],
          "contour": [
           {
            "colorbar": {
             "outlinewidth": 0,
             "ticks": ""
            },
            "colorscale": [
             [
              0,
              "#0d0887"
             ],
             [
              0.1111111111111111,
              "#46039f"
             ],
             [
              0.2222222222222222,
              "#7201a8"
             ],
             [
              0.3333333333333333,
              "#9c179e"
             ],
             [
              0.4444444444444444,
              "#bd3786"
             ],
             [
              0.5555555555555556,
              "#d8576b"
             ],
             [
              0.6666666666666666,
              "#ed7953"
             ],
             [
              0.7777777777777778,
              "#fb9f3a"
             ],
             [
              0.8888888888888888,
              "#fdca26"
             ],
             [
              1,
              "#f0f921"
             ]
            ],
            "type": "contour"
           }
          ],
          "contourcarpet": [
           {
            "colorbar": {
             "outlinewidth": 0,
             "ticks": ""
            },
            "type": "contourcarpet"
           }
          ],
          "heatmap": [
           {
            "colorbar": {
             "outlinewidth": 0,
             "ticks": ""
            },
            "colorscale": [
             [
              0,
              "#0d0887"
             ],
             [
              0.1111111111111111,
              "#46039f"
             ],
             [
              0.2222222222222222,
              "#7201a8"
             ],
             [
              0.3333333333333333,
              "#9c179e"
             ],
             [
              0.4444444444444444,
              "#bd3786"
             ],
             [
              0.5555555555555556,
              "#d8576b"
             ],
             [
              0.6666666666666666,
              "#ed7953"
             ],
             [
              0.7777777777777778,
              "#fb9f3a"
             ],
             [
              0.8888888888888888,
              "#fdca26"
             ],
             [
              1,
              "#f0f921"
             ]
            ],
            "type": "heatmap"
           }
          ],
          "heatmapgl": [
           {
            "colorbar": {
             "outlinewidth": 0,
             "ticks": ""
            },
            "colorscale": [
             [
              0,
              "#0d0887"
             ],
             [
              0.1111111111111111,
              "#46039f"
             ],
             [
              0.2222222222222222,
              "#7201a8"
             ],
             [
              0.3333333333333333,
              "#9c179e"
             ],
             [
              0.4444444444444444,
              "#bd3786"
             ],
             [
              0.5555555555555556,
              "#d8576b"
             ],
             [
              0.6666666666666666,
              "#ed7953"
             ],
             [
              0.7777777777777778,
              "#fb9f3a"
             ],
             [
              0.8888888888888888,
              "#fdca26"
             ],
             [
              1,
              "#f0f921"
             ]
            ],
            "type": "heatmapgl"
           }
          ],
          "histogram": [
           {
            "marker": {
             "pattern": {
              "fillmode": "overlay",
              "size": 10,
              "solidity": 0.2
             }
            },
            "type": "histogram"
           }
          ],
          "histogram2d": [
           {
            "colorbar": {
             "outlinewidth": 0,
             "ticks": ""
            },
            "colorscale": [
             [
              0,
              "#0d0887"
             ],
             [
              0.1111111111111111,
              "#46039f"
             ],
             [
              0.2222222222222222,
              "#7201a8"
             ],
             [
              0.3333333333333333,
              "#9c179e"
             ],
             [
              0.4444444444444444,
              "#bd3786"
             ],
             [
              0.5555555555555556,
              "#d8576b"
             ],
             [
              0.6666666666666666,
              "#ed7953"
             ],
             [
              0.7777777777777778,
              "#fb9f3a"
             ],
             [
              0.8888888888888888,
              "#fdca26"
             ],
             [
              1,
              "#f0f921"
             ]
            ],
            "type": "histogram2d"
           }
          ],
          "histogram2dcontour": [
           {
            "colorbar": {
             "outlinewidth": 0,
             "ticks": ""
            },
            "colorscale": [
             [
              0,
              "#0d0887"
             ],
             [
              0.1111111111111111,
              "#46039f"
             ],
             [
              0.2222222222222222,
              "#7201a8"
             ],
             [
              0.3333333333333333,
              "#9c179e"
             ],
             [
              0.4444444444444444,
              "#bd3786"
             ],
             [
              0.5555555555555556,
              "#d8576b"
             ],
             [
              0.6666666666666666,
              "#ed7953"
             ],
             [
              0.7777777777777778,
              "#fb9f3a"
             ],
             [
              0.8888888888888888,
              "#fdca26"
             ],
             [
              1,
              "#f0f921"
             ]
            ],
            "type": "histogram2dcontour"
           }
          ],
          "mesh3d": [
           {
            "colorbar": {
             "outlinewidth": 0,
             "ticks": ""
            },
            "type": "mesh3d"
           }
          ],
          "parcoords": [
           {
            "line": {
             "colorbar": {
              "outlinewidth": 0,
              "ticks": ""
             }
            },
            "type": "parcoords"
           }
          ],
          "pie": [
           {
            "automargin": true,
            "type": "pie"
           }
          ],
          "scatter": [
           {
            "marker": {
             "colorbar": {
              "outlinewidth": 0,
              "ticks": ""
             }
            },
            "type": "scatter"
           }
          ],
          "scatter3d": [
           {
            "line": {
             "colorbar": {
              "outlinewidth": 0,
              "ticks": ""
             }
            },
            "marker": {
             "colorbar": {
              "outlinewidth": 0,
              "ticks": ""
             }
            },
            "type": "scatter3d"
           }
          ],
          "scattercarpet": [
           {
            "marker": {
             "colorbar": {
              "outlinewidth": 0,
              "ticks": ""
             }
            },
            "type": "scattercarpet"
           }
          ],
          "scattergeo": [
           {
            "marker": {
             "colorbar": {
              "outlinewidth": 0,
              "ticks": ""
             }
            },
            "type": "scattergeo"
           }
          ],
          "scattergl": [
           {
            "marker": {
             "colorbar": {
              "outlinewidth": 0,
              "ticks": ""
             }
            },
            "type": "scattergl"
           }
          ],
          "scattermapbox": [
           {
            "marker": {
             "colorbar": {
              "outlinewidth": 0,
              "ticks": ""
             }
            },
            "type": "scattermapbox"
           }
          ],
          "scatterpolar": [
           {
            "marker": {
             "colorbar": {
              "outlinewidth": 0,
              "ticks": ""
             }
            },
            "type": "scatterpolar"
           }
          ],
          "scatterpolargl": [
           {
            "marker": {
             "colorbar": {
              "outlinewidth": 0,
              "ticks": ""
             }
            },
            "type": "scatterpolargl"
           }
          ],
          "scatterternary": [
           {
            "marker": {
             "colorbar": {
              "outlinewidth": 0,
              "ticks": ""
             }
            },
            "type": "scatterternary"
           }
          ],
          "surface": [
           {
            "colorbar": {
             "outlinewidth": 0,
             "ticks": ""
            },
            "colorscale": [
             [
              0,
              "#0d0887"
             ],
             [
              0.1111111111111111,
              "#46039f"
             ],
             [
              0.2222222222222222,
              "#7201a8"
             ],
             [
              0.3333333333333333,
              "#9c179e"
             ],
             [
              0.4444444444444444,
              "#bd3786"
             ],
             [
              0.5555555555555556,
              "#d8576b"
             ],
             [
              0.6666666666666666,
              "#ed7953"
             ],
             [
              0.7777777777777778,
              "#fb9f3a"
             ],
             [
              0.8888888888888888,
              "#fdca26"
             ],
             [
              1,
              "#f0f921"
             ]
            ],
            "type": "surface"
           }
          ],
          "table": [
           {
            "cells": {
             "fill": {
              "color": "#EBF0F8"
             },
             "line": {
              "color": "white"
             }
            },
            "header": {
             "fill": {
              "color": "#C8D4E3"
             },
             "line": {
              "color": "white"
             }
            },
            "type": "table"
           }
          ]
         },
         "layout": {
          "annotationdefaults": {
           "arrowcolor": "#2a3f5f",
           "arrowhead": 0,
           "arrowwidth": 1
          },
          "autotypenumbers": "strict",
          "coloraxis": {
           "colorbar": {
            "outlinewidth": 0,
            "ticks": ""
           }
          },
          "colorscale": {
           "diverging": [
            [
             0,
             "#8e0152"
            ],
            [
             0.1,
             "#c51b7d"
            ],
            [
             0.2,
             "#de77ae"
            ],
            [
             0.3,
             "#f1b6da"
            ],
            [
             0.4,
             "#fde0ef"
            ],
            [
             0.5,
             "#f7f7f7"
            ],
            [
             0.6,
             "#e6f5d0"
            ],
            [
             0.7,
             "#b8e186"
            ],
            [
             0.8,
             "#7fbc41"
            ],
            [
             0.9,
             "#4d9221"
            ],
            [
             1,
             "#276419"
            ]
           ],
           "sequential": [
            [
             0,
             "#0d0887"
            ],
            [
             0.1111111111111111,
             "#46039f"
            ],
            [
             0.2222222222222222,
             "#7201a8"
            ],
            [
             0.3333333333333333,
             "#9c179e"
            ],
            [
             0.4444444444444444,
             "#bd3786"
            ],
            [
             0.5555555555555556,
             "#d8576b"
            ],
            [
             0.6666666666666666,
             "#ed7953"
            ],
            [
             0.7777777777777778,
             "#fb9f3a"
            ],
            [
             0.8888888888888888,
             "#fdca26"
            ],
            [
             1,
             "#f0f921"
            ]
           ],
           "sequentialminus": [
            [
             0,
             "#0d0887"
            ],
            [
             0.1111111111111111,
             "#46039f"
            ],
            [
             0.2222222222222222,
             "#7201a8"
            ],
            [
             0.3333333333333333,
             "#9c179e"
            ],
            [
             0.4444444444444444,
             "#bd3786"
            ],
            [
             0.5555555555555556,
             "#d8576b"
            ],
            [
             0.6666666666666666,
             "#ed7953"
            ],
            [
             0.7777777777777778,
             "#fb9f3a"
            ],
            [
             0.8888888888888888,
             "#fdca26"
            ],
            [
             1,
             "#f0f921"
            ]
           ]
          },
          "colorway": [
           "#636efa",
           "#EF553B",
           "#00cc96",
           "#ab63fa",
           "#FFA15A",
           "#19d3f3",
           "#FF6692",
           "#B6E880",
           "#FF97FF",
           "#FECB52"
          ],
          "font": {
           "color": "#2a3f5f"
          },
          "geo": {
           "bgcolor": "white",
           "lakecolor": "white",
           "landcolor": "#E5ECF6",
           "showlakes": true,
           "showland": true,
           "subunitcolor": "white"
          },
          "hoverlabel": {
           "align": "left"
          },
          "hovermode": "closest",
          "mapbox": {
           "style": "light"
          },
          "paper_bgcolor": "white",
          "plot_bgcolor": "#E5ECF6",
          "polar": {
           "angularaxis": {
            "gridcolor": "white",
            "linecolor": "white",
            "ticks": ""
           },
           "bgcolor": "#E5ECF6",
           "radialaxis": {
            "gridcolor": "white",
            "linecolor": "white",
            "ticks": ""
           }
          },
          "scene": {
           "xaxis": {
            "backgroundcolor": "#E5ECF6",
            "gridcolor": "white",
            "gridwidth": 2,
            "linecolor": "white",
            "showbackground": true,
            "ticks": "",
            "zerolinecolor": "white"
           },
           "yaxis": {
            "backgroundcolor": "#E5ECF6",
            "gridcolor": "white",
            "gridwidth": 2,
            "linecolor": "white",
            "showbackground": true,
            "ticks": "",
            "zerolinecolor": "white"
           },
           "zaxis": {
            "backgroundcolor": "#E5ECF6",
            "gridcolor": "white",
            "gridwidth": 2,
            "linecolor": "white",
            "showbackground": true,
            "ticks": "",
            "zerolinecolor": "white"
           }
          },
          "shapedefaults": {
           "line": {
            "color": "#2a3f5f"
           }
          },
          "ternary": {
           "aaxis": {
            "gridcolor": "white",
            "linecolor": "white",
            "ticks": ""
           },
           "baxis": {
            "gridcolor": "white",
            "linecolor": "white",
            "ticks": ""
           },
           "bgcolor": "#E5ECF6",
           "caxis": {
            "gridcolor": "white",
            "linecolor": "white",
            "ticks": ""
           }
          },
          "title": {
           "x": 0.05
          },
          "xaxis": {
           "automargin": true,
           "gridcolor": "white",
           "linecolor": "white",
           "ticks": "",
           "title": {
            "standoff": 15
           },
           "zerolinecolor": "white",
           "zerolinewidth": 2
          },
          "yaxis": {
           "automargin": true,
           "gridcolor": "white",
           "linecolor": "white",
           "ticks": "",
           "title": {
            "standoff": 15
           },
           "zerolinecolor": "white",
           "zerolinewidth": 2
          }
         }
        }
       }
      }
     },
     "metadata": {},
     "output_type": "display_data"
    }
   ],
   "source": [
    "# import plotly.graph_objects as go\n",
    "# fig = go.Figure(data=go.Candlestick(x=demand_ohlc.reset_index()['a'],\n",
    "#                     open=demand_ohlc['open'],\n",
    "#                     high=demand_ohlc['high'],\n",
    "#                     low=demand_ohlc['low'],\n",
    "#                     close=demand_ohlc['close']))\n",
    "# fig.show()"
   ]
  }
 ],
 "metadata": {
  "kernelspec": {
   "display_name": "Python 3",
   "language": "python",
   "name": "python3"
  },
  "language_info": {
   "codemirror_mode": {
    "name": "ipython",
    "version": 3
   },
   "file_extension": ".py",
   "mimetype": "text/x-python",
   "name": "python",
   "nbconvert_exporter": "python",
   "pygments_lexer": "ipython3",
   "version": "3.11.9"
  },
  "orig_nbformat": 4
 },
 "nbformat": 4,
 "nbformat_minor": 2
}
