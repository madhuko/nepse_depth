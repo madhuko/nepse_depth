{
 "cells": [
  {
   "cell_type": "code",
   "execution_count": 1,
   "metadata": {},
   "outputs": [],
   "source": [
    "import pandas as pd\n",
    "from datetime import date\n",
    "import json"
   ]
  },
  {
   "cell_type": "code",
   "execution_count": 2,
   "metadata": {},
   "outputs": [],
   "source": [
    "import os"
   ]
  },
  {
   "cell_type": "code",
   "execution_count": 3,
   "metadata": {},
   "outputs": [
    {
     "data": {
      "text/plain": [
       "['files/2022-02-23',\n",
       " 'files/2022-02-24',\n",
       " 'files/2022-02-25',\n",
       " 'files/2022-02-26',\n",
       " 'files/2022-02-27',\n",
       " 'files/2022-02-28',\n",
       " 'files/2022-03-01',\n",
       " 'files/2022-03-02',\n",
       " 'files/2022-03-03',\n",
       " 'files/2022-03-06',\n",
       " 'files/2022-03-07',\n",
       " 'files/2022-03-08',\n",
       " 'files/2022-03-09',\n",
       " 'files/2022-03-10',\n",
       " 'files/2022-03-13',\n",
       " 'files/2022-03-14',\n",
       " 'files/2022-03-15',\n",
       " 'files/2022-03-16',\n",
       " 'files/2022-03-17',\n",
       " 'files/2022-03-20',\n",
       " 'files/2022-03-21',\n",
       " 'files/2022-03-22',\n",
       " 'files/2022-03-23',\n",
       " 'files/2022-03-24',\n",
       " 'files/2022-03-27',\n",
       " 'files/2022-03-28',\n",
       " 'files/2022-03-29',\n",
       " 'files/2022-03-30',\n",
       " 'files/2022-03-31',\n",
       " 'files/2022-04-03',\n",
       " 'files/2022-04-04',\n",
       " 'files/2022-04-05',\n",
       " 'files/2022-04-06',\n",
       " 'files/2022-04-07',\n",
       " 'files/2022-04-10',\n",
       " 'files/2022-04-11',\n",
       " 'files/2022-04-12',\n",
       " 'files/2022-04-13',\n",
       " 'files/2022-04-14']"
      ]
     },
     "execution_count": 3,
     "metadata": {},
     "output_type": "execute_result"
    }
   ],
   "source": [
    "pather=[\"files/\"+f for f in os.listdir(\"files/\")]\n",
    "pather"
   ]
  },
  {
   "cell_type": "code",
   "execution_count": 4,
   "metadata": {},
   "outputs": [],
   "source": [
    "def f(a):\n",
    "    return pd.read_csv(a,delimiter=\"|\",header=None,skip_blank_lines=True)\n",
    "df = pd.concat(map(f, pather))"
   ]
  },
  {
   "cell_type": "code",
   "execution_count": 6,
   "metadata": {},
   "outputs": [
    {
     "data": {
      "text/html": [
       "<div>\n",
       "<style scoped>\n",
       "    .dataframe tbody tr th:only-of-type {\n",
       "        vertical-align: middle;\n",
       "    }\n",
       "\n",
       "    .dataframe tbody tr th {\n",
       "        vertical-align: top;\n",
       "    }\n",
       "\n",
       "    .dataframe thead th {\n",
       "        text-align: right;\n",
       "    }\n",
       "</style>\n",
       "<table border=\"1\" class=\"dataframe\">\n",
       "  <thead>\n",
       "    <tr style=\"text-align: right;\">\n",
       "      <th></th>\n",
       "      <th>0</th>\n",
       "      <th>1</th>\n",
       "      <th>2</th>\n",
       "    </tr>\n",
       "  </thead>\n",
       "  <tbody>\n",
       "    <tr>\n",
       "      <th>0</th>\n",
       "      <td>2022-02-23 05:24:26.573953</td>\n",
       "      <td>NABIL</td>\n",
       "      <td>{\"totalBuyQty\": 4229, \"marketDepth\": {\"buyMark...</td>\n",
       "    </tr>\n",
       "    <tr>\n",
       "      <th>1</th>\n",
       "      <td>2022-02-23 05:24:28.992856</td>\n",
       "      <td>SCB</td>\n",
       "      <td>{\"totalBuyQty\": 5206, \"marketDepth\": {\"buyMark...</td>\n",
       "    </tr>\n",
       "    <tr>\n",
       "      <th>2</th>\n",
       "      <td>2022-02-23 05:24:31.423940</td>\n",
       "      <td>SBI</td>\n",
       "      <td>{\"totalBuyQty\": 1733, \"marketDepth\": {\"buyMark...</td>\n",
       "    </tr>\n",
       "    <tr>\n",
       "      <th>3</th>\n",
       "      <td>2022-02-23 05:24:33.729594</td>\n",
       "      <td>EBL</td>\n",
       "      <td>{\"totalBuyQty\": 13780, \"marketDepth\": {\"buyMar...</td>\n",
       "    </tr>\n",
       "    <tr>\n",
       "      <th>4</th>\n",
       "      <td>2022-02-23 05:24:36.292215</td>\n",
       "      <td>BOKL</td>\n",
       "      <td>{\"totalBuyQty\": 2018, \"marketDepth\": {\"buyMark...</td>\n",
       "    </tr>\n",
       "    <tr>\n",
       "      <th>...</th>\n",
       "      <td>...</td>\n",
       "      <td>...</td>\n",
       "      <td>...</td>\n",
       "    </tr>\n",
       "    <tr>\n",
       "      <th>1771</th>\n",
       "      <td>2022-04-14 09:05:22.882923</td>\n",
       "      <td>BNHC</td>\n",
       "      <td>{\"totalBuyQty\": 0, \"marketDepth\": {\"buyMarketD...</td>\n",
       "    </tr>\n",
       "    <tr>\n",
       "      <th>1772</th>\n",
       "      <td>2022-04-14 09:05:25.481905</td>\n",
       "      <td>ENL</td>\n",
       "      <td>{\"totalBuyQty\": 0, \"marketDepth\": {\"buyMarketD...</td>\n",
       "    </tr>\n",
       "    <tr>\n",
       "      <th>1773</th>\n",
       "      <td>2022-04-14 09:05:27.624584</td>\n",
       "      <td>RULB</td>\n",
       "      <td>{\"totalBuyQty\": 0, \"marketDepth\": {\"buyMarketD...</td>\n",
       "    </tr>\n",
       "    <tr>\n",
       "      <th>1774</th>\n",
       "      <td>2022-04-14 09:05:30.037204</td>\n",
       "      <td>JALPA</td>\n",
       "      <td>{\"totalBuyQty\": 0, \"marketDepth\": {\"buyMarketD...</td>\n",
       "    </tr>\n",
       "    <tr>\n",
       "      <th>1775</th>\n",
       "      <td>2022-04-14 09:05:32.980498</td>\n",
       "      <td>NESDO</td>\n",
       "      <td>{\"totalBuyQty\": 0, \"marketDepth\": {\"buyMarketD...</td>\n",
       "    </tr>\n",
       "  </tbody>\n",
       "</table>\n",
       "<p>60338 rows × 3 columns</p>\n",
       "</div>"
      ],
      "text/plain": [
       "                               0      1  \\\n",
       "0     2022-02-23 05:24:26.573953  NABIL   \n",
       "1     2022-02-23 05:24:28.992856    SCB   \n",
       "2     2022-02-23 05:24:31.423940    SBI   \n",
       "3     2022-02-23 05:24:33.729594    EBL   \n",
       "4     2022-02-23 05:24:36.292215   BOKL   \n",
       "...                          ...    ...   \n",
       "1771  2022-04-14 09:05:22.882923   BNHC   \n",
       "1772  2022-04-14 09:05:25.481905    ENL   \n",
       "1773  2022-04-14 09:05:27.624584   RULB   \n",
       "1774  2022-04-14 09:05:30.037204  JALPA   \n",
       "1775  2022-04-14 09:05:32.980498  NESDO   \n",
       "\n",
       "                                                      2  \n",
       "0     {\"totalBuyQty\": 4229, \"marketDepth\": {\"buyMark...  \n",
       "1     {\"totalBuyQty\": 5206, \"marketDepth\": {\"buyMark...  \n",
       "2     {\"totalBuyQty\": 1733, \"marketDepth\": {\"buyMark...  \n",
       "3     {\"totalBuyQty\": 13780, \"marketDepth\": {\"buyMar...  \n",
       "4     {\"totalBuyQty\": 2018, \"marketDepth\": {\"buyMark...  \n",
       "...                                                 ...  \n",
       "1771  {\"totalBuyQty\": 0, \"marketDepth\": {\"buyMarketD...  \n",
       "1772  {\"totalBuyQty\": 0, \"marketDepth\": {\"buyMarketD...  \n",
       "1773  {\"totalBuyQty\": 0, \"marketDepth\": {\"buyMarketD...  \n",
       "1774  {\"totalBuyQty\": 0, \"marketDepth\": {\"buyMarketD...  \n",
       "1775  {\"totalBuyQty\": 0, \"marketDepth\": {\"buyMarketD...  \n",
       "\n",
       "[60338 rows x 3 columns]"
      ]
     },
     "execution_count": 6,
     "metadata": {},
     "output_type": "execute_result"
    }
   ],
   "source": [
    "df"
   ]
  },
  {
   "cell_type": "code",
   "execution_count": 7,
   "metadata": {},
   "outputs": [
    {
     "data": {
      "text/html": [
       "<div>\n",
       "<style scoped>\n",
       "    .dataframe tbody tr th:only-of-type {\n",
       "        vertical-align: middle;\n",
       "    }\n",
       "\n",
       "    .dataframe tbody tr th {\n",
       "        vertical-align: top;\n",
       "    }\n",
       "\n",
       "    .dataframe thead th {\n",
       "        text-align: right;\n",
       "    }\n",
       "</style>\n",
       "<table border=\"1\" class=\"dataframe\">\n",
       "  <thead>\n",
       "    <tr style=\"text-align: right;\">\n",
       "      <th></th>\n",
       "      <th>d</th>\n",
       "      <th>e</th>\n",
       "      <th>f</th>\n",
       "    </tr>\n",
       "    <tr>\n",
       "      <th>b</th>\n",
       "      <th></th>\n",
       "      <th></th>\n",
       "      <th></th>\n",
       "    </tr>\n",
       "  </thead>\n",
       "  <tbody>\n",
       "    <tr>\n",
       "      <th>JALPA</th>\n",
       "      <td>94218.577922</td>\n",
       "      <td>0.000000</td>\n",
       "      <td>inf</td>\n",
       "    </tr>\n",
       "    <tr>\n",
       "      <th>NESDO</th>\n",
       "      <td>93439.864583</td>\n",
       "      <td>0.000000</td>\n",
       "      <td>inf</td>\n",
       "    </tr>\n",
       "    <tr>\n",
       "      <th>NLO</th>\n",
       "      <td>95044.402214</td>\n",
       "      <td>0.000000</td>\n",
       "      <td>inf</td>\n",
       "    </tr>\n",
       "    <tr>\n",
       "      <th>BNL</th>\n",
       "      <td>4382.197080</td>\n",
       "      <td>0.000000</td>\n",
       "      <td>inf</td>\n",
       "    </tr>\n",
       "    <tr>\n",
       "      <th>RULB</th>\n",
       "      <td>61919.392157</td>\n",
       "      <td>366.673203</td>\n",
       "      <td>168.868059</td>\n",
       "    </tr>\n",
       "    <tr>\n",
       "      <th>...</th>\n",
       "      <td>...</td>\n",
       "      <td>...</td>\n",
       "      <td>...</td>\n",
       "    </tr>\n",
       "    <tr>\n",
       "      <th>CHL</th>\n",
       "      <td>4957.606618</td>\n",
       "      <td>5754.875000</td>\n",
       "      <td>0.861462</td>\n",
       "    </tr>\n",
       "    <tr>\n",
       "      <th>UNHPL</th>\n",
       "      <td>4153.654275</td>\n",
       "      <td>5002.985130</td>\n",
       "      <td>0.830235</td>\n",
       "    </tr>\n",
       "    <tr>\n",
       "      <th>PMHPL</th>\n",
       "      <td>4495.597070</td>\n",
       "      <td>5480.080586</td>\n",
       "      <td>0.820352</td>\n",
       "    </tr>\n",
       "    <tr>\n",
       "      <th>CORBL</th>\n",
       "      <td>1062.341912</td>\n",
       "      <td>1319.496324</td>\n",
       "      <td>0.805112</td>\n",
       "    </tr>\n",
       "    <tr>\n",
       "      <th>HURJA</th>\n",
       "      <td>1744.413284</td>\n",
       "      <td>2547.929889</td>\n",
       "      <td>0.684639</td>\n",
       "    </tr>\n",
       "  </tbody>\n",
       "</table>\n",
       "<p>200 rows × 3 columns</p>\n",
       "</div>"
      ],
      "text/plain": [
       "                  d            e           f\n",
       "b                                           \n",
       "JALPA  94218.577922     0.000000         inf\n",
       "NESDO  93439.864583     0.000000         inf\n",
       "NLO    95044.402214     0.000000         inf\n",
       "BNL     4382.197080     0.000000         inf\n",
       "RULB   61919.392157   366.673203  168.868059\n",
       "...             ...          ...         ...\n",
       "CHL     4957.606618  5754.875000    0.861462\n",
       "UNHPL   4153.654275  5002.985130    0.830235\n",
       "PMHPL   4495.597070  5480.080586    0.820352\n",
       "CORBL   1062.341912  1319.496324    0.805112\n",
       "HURJA   1744.413284  2547.929889    0.684639\n",
       "\n",
       "[200 rows x 3 columns]"
      ]
     },
     "execution_count": 7,
     "metadata": {},
     "output_type": "execute_result"
    }
   ],
   "source": [
    "# df=pd.read_csv(\"files/20220307\",delimiter=\"|\",header=None,skip_blank_lines=True)\n",
    "df.columns='a b c'.split()\n",
    "df.dropna(inplace=True)\n",
    "df['d']=df['c'].apply(lambda data: json.loads(data)['totalBuyQty'])\n",
    "df['e']=df['c'].apply(lambda data: json.loads(data)['totalSellQty'])\n",
    "df2=df.groupby(\"b\").mean()\n",
    "df2['f']=df2.d/df2.e\n",
    "# df2.sort_values('f',ascending=False).head()\n",
    "df2[df2['d']>1000].sort_values('f',ascending=False)"
   ]
  },
  {
   "cell_type": "code",
   "execution_count": 29,
   "metadata": {},
   "outputs": [],
   "source": [
    "sani_data=df[\"a b d e\".split()].copy()\n",
    "sani_data.a=pd.to_datetime(sani_data.a,format=\"%Y-%m-%D\")"
   ]
  },
  {
   "cell_type": "code",
   "execution_count": 43,
   "metadata": {},
   "outputs": [],
   "source": [
    "sani_data['a']=pd.to_datetime(sani_data['a'],format=\"%d%b%Y:%H:%M:%S.%f\")"
   ]
  },
  {
   "cell_type": "code",
   "execution_count": 45,
   "metadata": {},
   "outputs": [
    {
     "data": {
      "text/plain": [
       "0      2022-02-23 05:24:26.573953\n",
       "1      2022-02-23 05:24:28.992856\n",
       "2      2022-02-23 05:24:31.423940\n",
       "3      2022-02-23 05:24:33.729594\n",
       "4      2022-02-23 05:24:36.292215\n",
       "                  ...            \n",
       "1771   2022-04-14 09:05:22.882923\n",
       "1772   2022-04-14 09:05:25.481905\n",
       "1773   2022-04-14 09:05:27.624584\n",
       "1774   2022-04-14 09:05:30.037204\n",
       "1775   2022-04-14 09:05:32.980498\n",
       "Name: a, Length: 59567, dtype: datetime64[ns]"
      ]
     },
     "execution_count": 45,
     "metadata": {},
     "output_type": "execute_result"
    }
   ],
   "source": [
    "pd.to_datetime(sani_data['a'],format=\"%d%b%Y:%H:%M:%S.%f\")"
   ]
  },
  {
   "cell_type": "code",
   "execution_count": 67,
   "metadata": {},
   "outputs": [],
   "source": [
    "sani_data.set_index('a b'.split(),inplace=True)\n",
    "sani_data=sani_data.loc[(sani_data!=0).any(axis=1)]\n",
    "sani_data.reset_index(inplace=True)"
   ]
  },
  {
   "cell_type": "code",
   "execution_count": 68,
   "metadata": {},
   "outputs": [
    {
     "data": {
      "text/html": [
       "<div>\n",
       "<style scoped>\n",
       "    .dataframe tbody tr th:only-of-type {\n",
       "        vertical-align: middle;\n",
       "    }\n",
       "\n",
       "    .dataframe tbody tr th {\n",
       "        vertical-align: top;\n",
       "    }\n",
       "\n",
       "    .dataframe thead th {\n",
       "        text-align: right;\n",
       "    }\n",
       "</style>\n",
       "<table border=\"1\" class=\"dataframe\">\n",
       "  <thead>\n",
       "    <tr style=\"text-align: right;\">\n",
       "      <th></th>\n",
       "      <th>a</th>\n",
       "      <th>b</th>\n",
       "      <th>d</th>\n",
       "      <th>e</th>\n",
       "    </tr>\n",
       "  </thead>\n",
       "  <tbody>\n",
       "    <tr>\n",
       "      <th>0</th>\n",
       "      <td>2022-02-23 05:24:26.573953</td>\n",
       "      <td>NABIL</td>\n",
       "      <td>4229</td>\n",
       "      <td>6706</td>\n",
       "    </tr>\n",
       "    <tr>\n",
       "      <th>1</th>\n",
       "      <td>2022-02-23 05:24:28.992856</td>\n",
       "      <td>SCB</td>\n",
       "      <td>5206</td>\n",
       "      <td>1766</td>\n",
       "    </tr>\n",
       "    <tr>\n",
       "      <th>2</th>\n",
       "      <td>2022-02-23 05:24:31.423940</td>\n",
       "      <td>SBI</td>\n",
       "      <td>1733</td>\n",
       "      <td>370</td>\n",
       "    </tr>\n",
       "    <tr>\n",
       "      <th>3</th>\n",
       "      <td>2022-02-23 05:24:33.729594</td>\n",
       "      <td>EBL</td>\n",
       "      <td>13780</td>\n",
       "      <td>3370</td>\n",
       "    </tr>\n",
       "    <tr>\n",
       "      <th>4</th>\n",
       "      <td>2022-02-23 05:24:36.292215</td>\n",
       "      <td>BOKL</td>\n",
       "      <td>2018</td>\n",
       "      <td>2851</td>\n",
       "    </tr>\n",
       "    <tr>\n",
       "      <th>...</th>\n",
       "      <td>...</td>\n",
       "      <td>...</td>\n",
       "      <td>...</td>\n",
       "      <td>...</td>\n",
       "    </tr>\n",
       "    <tr>\n",
       "      <th>48971</th>\n",
       "      <td>2022-04-13 09:01:28.611717</td>\n",
       "      <td>MBJC</td>\n",
       "      <td>14081</td>\n",
       "      <td>3587</td>\n",
       "    </tr>\n",
       "    <tr>\n",
       "      <th>48972</th>\n",
       "      <td>2022-04-13 09:01:30.752623</td>\n",
       "      <td>BNHC</td>\n",
       "      <td>3230</td>\n",
       "      <td>2173</td>\n",
       "    </tr>\n",
       "    <tr>\n",
       "      <th>48973</th>\n",
       "      <td>2022-04-13 09:01:32.839407</td>\n",
       "      <td>ENL</td>\n",
       "      <td>34768</td>\n",
       "      <td>2048</td>\n",
       "    </tr>\n",
       "    <tr>\n",
       "      <th>48974</th>\n",
       "      <td>2022-04-13 09:01:35.017384</td>\n",
       "      <td>RULB</td>\n",
       "      <td>4355</td>\n",
       "      <td>2140</td>\n",
       "    </tr>\n",
       "    <tr>\n",
       "      <th>48975</th>\n",
       "      <td>2022-04-13 09:01:37.097557</td>\n",
       "      <td>JALPA</td>\n",
       "      <td>57357</td>\n",
       "      <td>0</td>\n",
       "    </tr>\n",
       "  </tbody>\n",
       "</table>\n",
       "<p>48976 rows × 4 columns</p>\n",
       "</div>"
      ],
      "text/plain": [
       "                               a      b      d     e\n",
       "0     2022-02-23 05:24:26.573953  NABIL   4229  6706\n",
       "1     2022-02-23 05:24:28.992856    SCB   5206  1766\n",
       "2     2022-02-23 05:24:31.423940    SBI   1733   370\n",
       "3     2022-02-23 05:24:33.729594    EBL  13780  3370\n",
       "4     2022-02-23 05:24:36.292215   BOKL   2018  2851\n",
       "...                          ...    ...    ...   ...\n",
       "48971 2022-04-13 09:01:28.611717   MBJC  14081  3587\n",
       "48972 2022-04-13 09:01:30.752623   BNHC   3230  2173\n",
       "48973 2022-04-13 09:01:32.839407    ENL  34768  2048\n",
       "48974 2022-04-13 09:01:35.017384   RULB   4355  2140\n",
       "48975 2022-04-13 09:01:37.097557  JALPA  57357     0\n",
       "\n",
       "[48976 rows x 4 columns]"
      ]
     },
     "execution_count": 68,
     "metadata": {},
     "output_type": "execute_result"
    }
   ],
   "source": [
    "sani_data"
   ]
  },
  {
   "cell_type": "code",
   "execution_count": 81,
   "metadata": {},
   "outputs": [],
   "source": [
    "sani_data.set_index('a',inplace=True)"
   ]
  },
  {
   "cell_type": "code",
   "execution_count": 86,
   "metadata": {},
   "outputs": [],
   "source": [
    "df2=sani_data[sani_data['b']==\"NTC\"]"
   ]
  },
  {
   "cell_type": "code",
   "execution_count": 95,
   "metadata": {},
   "outputs": [],
   "source": [
    "demand_ohlc=df2.d.resample(\"D\").ohlc().dropna()\n",
    "supply_ohlc=df2.e.resample(\"D\").ohlc().dropna()"
   ]
  },
  {
   "cell_type": "code",
   "execution_count": 96,
   "metadata": {},
   "outputs": [
    {
     "ename": "ValueError",
     "evalue": "Value of 'x' is not the name of a column in 'data_frame'. Expected one of ['b', 'd', 'e'] but received: a",
     "output_type": "error",
     "traceback": [
      "\u001b[1;31m---------------------------------------------------------------------------\u001b[0m",
      "\u001b[1;31mValueError\u001b[0m                                Traceback (most recent call last)",
      "\u001b[1;32me:\\Github\\nepse_depth\\analytics.ipynb Cell 15'\u001b[0m in \u001b[0;36m<cell line: 2>\u001b[1;34m()\u001b[0m\n\u001b[0;32m      <a href='vscode-notebook-cell:/e%3A/Github/nepse_depth/analytics.ipynb#ch0000018?line=0'>1</a>\u001b[0m \u001b[39mimport\u001b[39;00m \u001b[39mplotly\u001b[39;00m\u001b[39m.\u001b[39;00m\u001b[39mexpress\u001b[39;00m  \u001b[39mas\u001b[39;00m \u001b[39mpx\u001b[39;00m\n\u001b[1;32m----> <a href='vscode-notebook-cell:/e%3A/Github/nepse_depth/analytics.ipynb#ch0000018?line=1'>2</a>\u001b[0m px\u001b[39m.\u001b[39;49mline(df2,x\u001b[39m=\u001b[39;49m\u001b[39m'\u001b[39;49m\u001b[39ma\u001b[39;49m\u001b[39m'\u001b[39;49m,y\u001b[39m=\u001b[39;49m\u001b[39m'\u001b[39;49m\u001b[39md\u001b[39;49m\u001b[39m'\u001b[39;49m)\n",
      "File \u001b[1;32m~\\AppData\\Local\\Programs\\Python\\Python310\\lib\\site-packages\\plotly\\express\\_chart_types.py:262\u001b[0m, in \u001b[0;36mline\u001b[1;34m(data_frame, x, y, line_group, color, line_dash, symbol, hover_name, hover_data, custom_data, text, facet_row, facet_col, facet_col_wrap, facet_row_spacing, facet_col_spacing, error_x, error_x_minus, error_y, error_y_minus, animation_frame, animation_group, category_orders, labels, orientation, color_discrete_sequence, color_discrete_map, line_dash_sequence, line_dash_map, symbol_sequence, symbol_map, markers, log_x, log_y, range_x, range_y, line_shape, render_mode, title, template, width, height)\u001b[0m\n\u001b[0;32m    <a href='file:///c%3A/Users/madhu/AppData/Local/Programs/Python/Python310/lib/site-packages/plotly/express/_chart_types.py?line=213'>214</a>\u001b[0m \u001b[39mdef\u001b[39;00m \u001b[39mline\u001b[39m(\n\u001b[0;32m    <a href='file:///c%3A/Users/madhu/AppData/Local/Programs/Python/Python310/lib/site-packages/plotly/express/_chart_types.py?line=214'>215</a>\u001b[0m     data_frame\u001b[39m=\u001b[39m\u001b[39mNone\u001b[39;00m,\n\u001b[0;32m    <a href='file:///c%3A/Users/madhu/AppData/Local/Programs/Python/Python310/lib/site-packages/plotly/express/_chart_types.py?line=215'>216</a>\u001b[0m     x\u001b[39m=\u001b[39m\u001b[39mNone\u001b[39;00m,\n\u001b[1;32m   (...)\u001b[0m\n\u001b[0;32m    <a href='file:///c%3A/Users/madhu/AppData/Local/Programs/Python/Python310/lib/site-packages/plotly/express/_chart_types.py?line=255'>256</a>\u001b[0m     height\u001b[39m=\u001b[39m\u001b[39mNone\u001b[39;00m,\n\u001b[0;32m    <a href='file:///c%3A/Users/madhu/AppData/Local/Programs/Python/Python310/lib/site-packages/plotly/express/_chart_types.py?line=256'>257</a>\u001b[0m ):\n\u001b[0;32m    <a href='file:///c%3A/Users/madhu/AppData/Local/Programs/Python/Python310/lib/site-packages/plotly/express/_chart_types.py?line=257'>258</a>\u001b[0m     \u001b[39m\"\"\"\u001b[39;00m\n\u001b[0;32m    <a href='file:///c%3A/Users/madhu/AppData/Local/Programs/Python/Python310/lib/site-packages/plotly/express/_chart_types.py?line=258'>259</a>\u001b[0m \u001b[39m    In a 2D line plot, each row of `data_frame` is represented as vertex of\u001b[39;00m\n\u001b[0;32m    <a href='file:///c%3A/Users/madhu/AppData/Local/Programs/Python/Python310/lib/site-packages/plotly/express/_chart_types.py?line=259'>260</a>\u001b[0m \u001b[39m    a polyline mark in 2D space.\u001b[39;00m\n\u001b[0;32m    <a href='file:///c%3A/Users/madhu/AppData/Local/Programs/Python/Python310/lib/site-packages/plotly/express/_chart_types.py?line=260'>261</a>\u001b[0m \u001b[39m    \"\"\"\u001b[39;00m\n\u001b[1;32m--> <a href='file:///c%3A/Users/madhu/AppData/Local/Programs/Python/Python310/lib/site-packages/plotly/express/_chart_types.py?line=261'>262</a>\u001b[0m     \u001b[39mreturn\u001b[39;00m make_figure(args\u001b[39m=\u001b[39;49m\u001b[39mlocals\u001b[39;49m(), constructor\u001b[39m=\u001b[39;49mgo\u001b[39m.\u001b[39;49mScatter)\n",
      "File \u001b[1;32m~\\AppData\\Local\\Programs\\Python\\Python310\\lib\\site-packages\\plotly\\express\\_core.py:1945\u001b[0m, in \u001b[0;36mmake_figure\u001b[1;34m(args, constructor, trace_patch, layout_patch)\u001b[0m\n\u001b[0;32m   <a href='file:///c%3A/Users/madhu/AppData/Local/Programs/Python/Python310/lib/site-packages/plotly/express/_core.py?line=1941'>1942</a>\u001b[0m layout_patch \u001b[39m=\u001b[39m layout_patch \u001b[39mor\u001b[39;00m {}\n\u001b[0;32m   <a href='file:///c%3A/Users/madhu/AppData/Local/Programs/Python/Python310/lib/site-packages/plotly/express/_core.py?line=1942'>1943</a>\u001b[0m apply_default_cascade(args)\n\u001b[1;32m-> <a href='file:///c%3A/Users/madhu/AppData/Local/Programs/Python/Python310/lib/site-packages/plotly/express/_core.py?line=1944'>1945</a>\u001b[0m args \u001b[39m=\u001b[39m build_dataframe(args, constructor)\n\u001b[0;32m   <a href='file:///c%3A/Users/madhu/AppData/Local/Programs/Python/Python310/lib/site-packages/plotly/express/_core.py?line=1945'>1946</a>\u001b[0m \u001b[39mif\u001b[39;00m constructor \u001b[39min\u001b[39;00m [go\u001b[39m.\u001b[39mTreemap, go\u001b[39m.\u001b[39mSunburst, go\u001b[39m.\u001b[39mIcicle] \u001b[39mand\u001b[39;00m args[\u001b[39m\"\u001b[39m\u001b[39mpath\u001b[39m\u001b[39m\"\u001b[39m] \u001b[39mis\u001b[39;00m \u001b[39mnot\u001b[39;00m \u001b[39mNone\u001b[39;00m:\n\u001b[0;32m   <a href='file:///c%3A/Users/madhu/AppData/Local/Programs/Python/Python310/lib/site-packages/plotly/express/_core.py?line=1946'>1947</a>\u001b[0m     args \u001b[39m=\u001b[39m process_dataframe_hierarchy(args)\n",
      "File \u001b[1;32m~\\AppData\\Local\\Programs\\Python\\Python310\\lib\\site-packages\\plotly\\express\\_core.py:1405\u001b[0m, in \u001b[0;36mbuild_dataframe\u001b[1;34m(args, constructor)\u001b[0m\n\u001b[0;32m   <a href='file:///c%3A/Users/madhu/AppData/Local/Programs/Python/Python310/lib/site-packages/plotly/express/_core.py?line=1401'>1402</a>\u001b[0m     args[\u001b[39m\"\u001b[39m\u001b[39mcolor\u001b[39m\u001b[39m\"\u001b[39m] \u001b[39m=\u001b[39m \u001b[39mNone\u001b[39;00m\n\u001b[0;32m   <a href='file:///c%3A/Users/madhu/AppData/Local/Programs/Python/Python310/lib/site-packages/plotly/express/_core.py?line=1402'>1403</a>\u001b[0m \u001b[39m# now that things have been prepped, we do the systematic rewriting of `args`\u001b[39;00m\n\u001b[1;32m-> <a href='file:///c%3A/Users/madhu/AppData/Local/Programs/Python/Python310/lib/site-packages/plotly/express/_core.py?line=1404'>1405</a>\u001b[0m df_output, wide_id_vars \u001b[39m=\u001b[39m process_args_into_dataframe(\n\u001b[0;32m   <a href='file:///c%3A/Users/madhu/AppData/Local/Programs/Python/Python310/lib/site-packages/plotly/express/_core.py?line=1405'>1406</a>\u001b[0m     args, wide_mode, var_name, value_name\n\u001b[0;32m   <a href='file:///c%3A/Users/madhu/AppData/Local/Programs/Python/Python310/lib/site-packages/plotly/express/_core.py?line=1406'>1407</a>\u001b[0m )\n\u001b[0;32m   <a href='file:///c%3A/Users/madhu/AppData/Local/Programs/Python/Python310/lib/site-packages/plotly/express/_core.py?line=1408'>1409</a>\u001b[0m \u001b[39m# now that `df_output` exists and `args` contains only references, we complete\u001b[39;00m\n\u001b[0;32m   <a href='file:///c%3A/Users/madhu/AppData/Local/Programs/Python/Python310/lib/site-packages/plotly/express/_core.py?line=1409'>1410</a>\u001b[0m \u001b[39m# the special-case and wide-mode handling by further rewriting args and/or mutating\u001b[39;00m\n\u001b[0;32m   <a href='file:///c%3A/Users/madhu/AppData/Local/Programs/Python/Python310/lib/site-packages/plotly/express/_core.py?line=1410'>1411</a>\u001b[0m \u001b[39m# df_output\u001b[39;00m\n\u001b[0;32m   <a href='file:///c%3A/Users/madhu/AppData/Local/Programs/Python/Python310/lib/site-packages/plotly/express/_core.py?line=1412'>1413</a>\u001b[0m count_name \u001b[39m=\u001b[39m _escape_col_name(df_output, \u001b[39m\"\u001b[39m\u001b[39mcount\u001b[39m\u001b[39m\"\u001b[39m, [var_name, value_name])\n",
      "File \u001b[1;32m~\\AppData\\Local\\Programs\\Python\\Python310\\lib\\site-packages\\plotly\\express\\_core.py:1207\u001b[0m, in \u001b[0;36mprocess_args_into_dataframe\u001b[1;34m(args, wide_mode, var_name, value_name)\u001b[0m\n\u001b[0;32m   <a href='file:///c%3A/Users/madhu/AppData/Local/Programs/Python/Python310/lib/site-packages/plotly/express/_core.py?line=1204'>1205</a>\u001b[0m         \u001b[39mif\u001b[39;00m argument \u001b[39m==\u001b[39m \u001b[39m\"\u001b[39m\u001b[39mindex\u001b[39m\u001b[39m\"\u001b[39m:\n\u001b[0;32m   <a href='file:///c%3A/Users/madhu/AppData/Local/Programs/Python/Python310/lib/site-packages/plotly/express/_core.py?line=1205'>1206</a>\u001b[0m             err_msg \u001b[39m+\u001b[39m\u001b[39m=\u001b[39m \u001b[39m\"\u001b[39m\u001b[39m\\n\u001b[39;00m\u001b[39m To use the index, pass it in directly as `df.index`.\u001b[39m\u001b[39m\"\u001b[39m\n\u001b[1;32m-> <a href='file:///c%3A/Users/madhu/AppData/Local/Programs/Python/Python310/lib/site-packages/plotly/express/_core.py?line=1206'>1207</a>\u001b[0m         \u001b[39mraise\u001b[39;00m \u001b[39mValueError\u001b[39;00m(err_msg)\n\u001b[0;32m   <a href='file:///c%3A/Users/madhu/AppData/Local/Programs/Python/Python310/lib/site-packages/plotly/express/_core.py?line=1207'>1208</a>\u001b[0m \u001b[39melif\u001b[39;00m length \u001b[39mand\u001b[39;00m \u001b[39mlen\u001b[39m(df_input[argument]) \u001b[39m!=\u001b[39m length:\n\u001b[0;32m   <a href='file:///c%3A/Users/madhu/AppData/Local/Programs/Python/Python310/lib/site-packages/plotly/express/_core.py?line=1208'>1209</a>\u001b[0m     \u001b[39mraise\u001b[39;00m \u001b[39mValueError\u001b[39;00m(\n\u001b[0;32m   <a href='file:///c%3A/Users/madhu/AppData/Local/Programs/Python/Python310/lib/site-packages/plotly/express/_core.py?line=1209'>1210</a>\u001b[0m         \u001b[39m\"\u001b[39m\u001b[39mAll arguments should have the same length. \u001b[39m\u001b[39m\"\u001b[39m\n\u001b[0;32m   <a href='file:///c%3A/Users/madhu/AppData/Local/Programs/Python/Python310/lib/site-packages/plotly/express/_core.py?line=1210'>1211</a>\u001b[0m         \u001b[39m\"\u001b[39m\u001b[39mThe length of column argument `df[\u001b[39m\u001b[39m%s\u001b[39;00m\u001b[39m]` is \u001b[39m\u001b[39m%d\u001b[39;00m\u001b[39m, whereas the \u001b[39m\u001b[39m\"\u001b[39m\n\u001b[1;32m   (...)\u001b[0m\n\u001b[0;32m   <a href='file:///c%3A/Users/madhu/AppData/Local/Programs/Python/Python310/lib/site-packages/plotly/express/_core.py?line=1217'>1218</a>\u001b[0m         )\n\u001b[0;32m   <a href='file:///c%3A/Users/madhu/AppData/Local/Programs/Python/Python310/lib/site-packages/plotly/express/_core.py?line=1218'>1219</a>\u001b[0m     )\n",
      "\u001b[1;31mValueError\u001b[0m: Value of 'x' is not the name of a column in 'data_frame'. Expected one of ['b', 'd', 'e'] but received: a"
     ]
    }
   ],
   "source": [
    "import plotly.express  as px\n",
    "px.line(df2,x='a',y='d')"
   ]
  },
  {
   "cell_type": "code",
   "execution_count": 97,
   "metadata": {},
   "outputs": [
    {
     "data": {
      "text/html": [
       "<div>\n",
       "<style scoped>\n",
       "    .dataframe tbody tr th:only-of-type {\n",
       "        vertical-align: middle;\n",
       "    }\n",
       "\n",
       "    .dataframe tbody tr th {\n",
       "        vertical-align: top;\n",
       "    }\n",
       "\n",
       "    .dataframe thead th {\n",
       "        text-align: right;\n",
       "    }\n",
       "</style>\n",
       "<table border=\"1\" class=\"dataframe\">\n",
       "  <thead>\n",
       "    <tr style=\"text-align: right;\">\n",
       "      <th></th>\n",
       "      <th>open</th>\n",
       "      <th>high</th>\n",
       "      <th>low</th>\n",
       "      <th>close</th>\n",
       "    </tr>\n",
       "    <tr>\n",
       "      <th>a</th>\n",
       "      <th></th>\n",
       "      <th></th>\n",
       "      <th></th>\n",
       "      <th></th>\n",
       "    </tr>\n",
       "  </thead>\n",
       "  <tbody>\n",
       "    <tr>\n",
       "      <th>2022-02-23</th>\n",
       "      <td>49440.0</td>\n",
       "      <td>96874.0</td>\n",
       "      <td>49440.0</td>\n",
       "      <td>72338.0</td>\n",
       "    </tr>\n",
       "    <tr>\n",
       "      <th>2022-02-24</th>\n",
       "      <td>49296.0</td>\n",
       "      <td>93428.0</td>\n",
       "      <td>49296.0</td>\n",
       "      <td>67019.0</td>\n",
       "    </tr>\n",
       "    <tr>\n",
       "      <th>2022-02-25</th>\n",
       "      <td>419.0</td>\n",
       "      <td>419.0</td>\n",
       "      <td>419.0</td>\n",
       "      <td>419.0</td>\n",
       "    </tr>\n",
       "    <tr>\n",
       "      <th>2022-02-26</th>\n",
       "      <td>419.0</td>\n",
       "      <td>419.0</td>\n",
       "      <td>419.0</td>\n",
       "      <td>419.0</td>\n",
       "    </tr>\n",
       "    <tr>\n",
       "      <th>2022-02-27</th>\n",
       "      <td>16020.0</td>\n",
       "      <td>76898.0</td>\n",
       "      <td>16020.0</td>\n",
       "      <td>44886.0</td>\n",
       "    </tr>\n",
       "    <tr>\n",
       "      <th>2022-02-28</th>\n",
       "      <td>14107.0</td>\n",
       "      <td>46785.0</td>\n",
       "      <td>14107.0</td>\n",
       "      <td>46785.0</td>\n",
       "    </tr>\n",
       "    <tr>\n",
       "      <th>2022-03-02</th>\n",
       "      <td>20045.0</td>\n",
       "      <td>41203.0</td>\n",
       "      <td>19440.0</td>\n",
       "      <td>34047.0</td>\n",
       "    </tr>\n",
       "    <tr>\n",
       "      <th>2022-03-06</th>\n",
       "      <td>16582.0</td>\n",
       "      <td>40347.0</td>\n",
       "      <td>16582.0</td>\n",
       "      <td>30768.0</td>\n",
       "    </tr>\n",
       "    <tr>\n",
       "      <th>2022-03-07</th>\n",
       "      <td>12512.0</td>\n",
       "      <td>73892.0</td>\n",
       "      <td>12512.0</td>\n",
       "      <td>70493.0</td>\n",
       "    </tr>\n",
       "    <tr>\n",
       "      <th>2022-03-09</th>\n",
       "      <td>44235.0</td>\n",
       "      <td>65977.0</td>\n",
       "      <td>41726.0</td>\n",
       "      <td>65184.0</td>\n",
       "    </tr>\n",
       "    <tr>\n",
       "      <th>2022-03-10</th>\n",
       "      <td>8415.0</td>\n",
       "      <td>23813.0</td>\n",
       "      <td>8415.0</td>\n",
       "      <td>21779.0</td>\n",
       "    </tr>\n",
       "    <tr>\n",
       "      <th>2022-03-13</th>\n",
       "      <td>146112.0</td>\n",
       "      <td>146112.0</td>\n",
       "      <td>146112.0</td>\n",
       "      <td>146112.0</td>\n",
       "    </tr>\n",
       "    <tr>\n",
       "      <th>2022-03-14</th>\n",
       "      <td>38051.0</td>\n",
       "      <td>52806.0</td>\n",
       "      <td>38051.0</td>\n",
       "      <td>52806.0</td>\n",
       "    </tr>\n",
       "    <tr>\n",
       "      <th>2022-03-15</th>\n",
       "      <td>53382.0</td>\n",
       "      <td>53382.0</td>\n",
       "      <td>16503.0</td>\n",
       "      <td>17862.0</td>\n",
       "    </tr>\n",
       "    <tr>\n",
       "      <th>2022-03-16</th>\n",
       "      <td>48323.0</td>\n",
       "      <td>59793.0</td>\n",
       "      <td>15580.0</td>\n",
       "      <td>57610.0</td>\n",
       "    </tr>\n",
       "    <tr>\n",
       "      <th>2022-03-20</th>\n",
       "      <td>19270.0</td>\n",
       "      <td>42302.0</td>\n",
       "      <td>19270.0</td>\n",
       "      <td>33805.0</td>\n",
       "    </tr>\n",
       "    <tr>\n",
       "      <th>2022-03-21</th>\n",
       "      <td>27835.0</td>\n",
       "      <td>111054.0</td>\n",
       "      <td>11538.0</td>\n",
       "      <td>81288.0</td>\n",
       "    </tr>\n",
       "    <tr>\n",
       "      <th>2022-03-22</th>\n",
       "      <td>20345.0</td>\n",
       "      <td>87300.0</td>\n",
       "      <td>19453.0</td>\n",
       "      <td>87300.0</td>\n",
       "    </tr>\n",
       "    <tr>\n",
       "      <th>2022-03-23</th>\n",
       "      <td>6624.0</td>\n",
       "      <td>84063.0</td>\n",
       "      <td>6624.0</td>\n",
       "      <td>28444.0</td>\n",
       "    </tr>\n",
       "    <tr>\n",
       "      <th>2022-03-24</th>\n",
       "      <td>34210.0</td>\n",
       "      <td>58554.0</td>\n",
       "      <td>34210.0</td>\n",
       "      <td>57062.0</td>\n",
       "    </tr>\n",
       "    <tr>\n",
       "      <th>2022-03-27</th>\n",
       "      <td>18868.0</td>\n",
       "      <td>50027.0</td>\n",
       "      <td>18751.0</td>\n",
       "      <td>18751.0</td>\n",
       "    </tr>\n",
       "    <tr>\n",
       "      <th>2022-03-28</th>\n",
       "      <td>7638.0</td>\n",
       "      <td>37649.0</td>\n",
       "      <td>7638.0</td>\n",
       "      <td>37649.0</td>\n",
       "    </tr>\n",
       "    <tr>\n",
       "      <th>2022-03-29</th>\n",
       "      <td>30302.0</td>\n",
       "      <td>40113.0</td>\n",
       "      <td>20137.0</td>\n",
       "      <td>30043.0</td>\n",
       "    </tr>\n",
       "    <tr>\n",
       "      <th>2022-03-30</th>\n",
       "      <td>13408.0</td>\n",
       "      <td>84465.0</td>\n",
       "      <td>13408.0</td>\n",
       "      <td>84465.0</td>\n",
       "    </tr>\n",
       "    <tr>\n",
       "      <th>2022-03-31</th>\n",
       "      <td>11194.0</td>\n",
       "      <td>49184.0</td>\n",
       "      <td>11194.0</td>\n",
       "      <td>29419.0</td>\n",
       "    </tr>\n",
       "    <tr>\n",
       "      <th>2022-04-03</th>\n",
       "      <td>47605.0</td>\n",
       "      <td>47605.0</td>\n",
       "      <td>18981.0</td>\n",
       "      <td>18981.0</td>\n",
       "    </tr>\n",
       "    <tr>\n",
       "      <th>2022-04-04</th>\n",
       "      <td>34800.0</td>\n",
       "      <td>47729.0</td>\n",
       "      <td>34800.0</td>\n",
       "      <td>47729.0</td>\n",
       "    </tr>\n",
       "    <tr>\n",
       "      <th>2022-04-05</th>\n",
       "      <td>9440.0</td>\n",
       "      <td>17222.0</td>\n",
       "      <td>9440.0</td>\n",
       "      <td>17222.0</td>\n",
       "    </tr>\n",
       "    <tr>\n",
       "      <th>2022-04-06</th>\n",
       "      <td>4269.0</td>\n",
       "      <td>62812.0</td>\n",
       "      <td>4269.0</td>\n",
       "      <td>24414.0</td>\n",
       "    </tr>\n",
       "    <tr>\n",
       "      <th>2022-04-07</th>\n",
       "      <td>3615.0</td>\n",
       "      <td>14938.0</td>\n",
       "      <td>3615.0</td>\n",
       "      <td>13727.0</td>\n",
       "    </tr>\n",
       "    <tr>\n",
       "      <th>2022-04-11</th>\n",
       "      <td>5278.0</td>\n",
       "      <td>12214.0</td>\n",
       "      <td>5227.0</td>\n",
       "      <td>7857.0</td>\n",
       "    </tr>\n",
       "    <tr>\n",
       "      <th>2022-04-12</th>\n",
       "      <td>2046.0</td>\n",
       "      <td>21690.0</td>\n",
       "      <td>2046.0</td>\n",
       "      <td>16038.0</td>\n",
       "    </tr>\n",
       "    <tr>\n",
       "      <th>2022-04-13</th>\n",
       "      <td>5122.0</td>\n",
       "      <td>49128.0</td>\n",
       "      <td>5122.0</td>\n",
       "      <td>48890.0</td>\n",
       "    </tr>\n",
       "  </tbody>\n",
       "</table>\n",
       "</div>"
      ],
      "text/plain": [
       "                open      high       low     close\n",
       "a                                                 \n",
       "2022-02-23   49440.0   96874.0   49440.0   72338.0\n",
       "2022-02-24   49296.0   93428.0   49296.0   67019.0\n",
       "2022-02-25     419.0     419.0     419.0     419.0\n",
       "2022-02-26     419.0     419.0     419.0     419.0\n",
       "2022-02-27   16020.0   76898.0   16020.0   44886.0\n",
       "2022-02-28   14107.0   46785.0   14107.0   46785.0\n",
       "2022-03-02   20045.0   41203.0   19440.0   34047.0\n",
       "2022-03-06   16582.0   40347.0   16582.0   30768.0\n",
       "2022-03-07   12512.0   73892.0   12512.0   70493.0\n",
       "2022-03-09   44235.0   65977.0   41726.0   65184.0\n",
       "2022-03-10    8415.0   23813.0    8415.0   21779.0\n",
       "2022-03-13  146112.0  146112.0  146112.0  146112.0\n",
       "2022-03-14   38051.0   52806.0   38051.0   52806.0\n",
       "2022-03-15   53382.0   53382.0   16503.0   17862.0\n",
       "2022-03-16   48323.0   59793.0   15580.0   57610.0\n",
       "2022-03-20   19270.0   42302.0   19270.0   33805.0\n",
       "2022-03-21   27835.0  111054.0   11538.0   81288.0\n",
       "2022-03-22   20345.0   87300.0   19453.0   87300.0\n",
       "2022-03-23    6624.0   84063.0    6624.0   28444.0\n",
       "2022-03-24   34210.0   58554.0   34210.0   57062.0\n",
       "2022-03-27   18868.0   50027.0   18751.0   18751.0\n",
       "2022-03-28    7638.0   37649.0    7638.0   37649.0\n",
       "2022-03-29   30302.0   40113.0   20137.0   30043.0\n",
       "2022-03-30   13408.0   84465.0   13408.0   84465.0\n",
       "2022-03-31   11194.0   49184.0   11194.0   29419.0\n",
       "2022-04-03   47605.0   47605.0   18981.0   18981.0\n",
       "2022-04-04   34800.0   47729.0   34800.0   47729.0\n",
       "2022-04-05    9440.0   17222.0    9440.0   17222.0\n",
       "2022-04-06    4269.0   62812.0    4269.0   24414.0\n",
       "2022-04-07    3615.0   14938.0    3615.0   13727.0\n",
       "2022-04-11    5278.0   12214.0    5227.0    7857.0\n",
       "2022-04-12    2046.0   21690.0    2046.0   16038.0\n",
       "2022-04-13    5122.0   49128.0    5122.0   48890.0"
      ]
     },
     "execution_count": 97,
     "metadata": {},
     "output_type": "execute_result"
    }
   ],
   "source": [
    "demand_ohlc"
   ]
  },
  {
   "cell_type": "code",
   "execution_count": 105,
   "metadata": {},
   "outputs": [
    {
     "data": {
      "application/vnd.plotly.v1+json": {
       "config": {
        "plotlyServerURL": "https://plot.ly"
       },
       "data": [
        {
         "close": [
          72338,
          67019,
          419,
          419,
          44886,
          46785,
          34047,
          30768,
          70493,
          65184,
          21779,
          146112,
          52806,
          17862,
          57610,
          33805,
          81288,
          87300,
          28444,
          57062,
          18751,
          37649,
          30043,
          84465,
          29419,
          18981,
          47729,
          17222,
          24414,
          13727,
          7857,
          16038,
          48890
         ],
         "high": [
          96874,
          93428,
          419,
          419,
          76898,
          46785,
          41203,
          40347,
          73892,
          65977,
          23813,
          146112,
          52806,
          53382,
          59793,
          42302,
          111054,
          87300,
          84063,
          58554,
          50027,
          37649,
          40113,
          84465,
          49184,
          47605,
          47729,
          17222,
          62812,
          14938,
          12214,
          21690,
          49128
         ],
         "low": [
          49440,
          49296,
          419,
          419,
          16020,
          14107,
          19440,
          16582,
          12512,
          41726,
          8415,
          146112,
          38051,
          16503,
          15580,
          19270,
          11538,
          19453,
          6624,
          34210,
          18751,
          7638,
          20137,
          13408,
          11194,
          18981,
          34800,
          9440,
          4269,
          3615,
          5227,
          2046,
          5122
         ],
         "open": [
          49440,
          49296,
          419,
          419,
          16020,
          14107,
          20045,
          16582,
          12512,
          44235,
          8415,
          146112,
          38051,
          53382,
          48323,
          19270,
          27835,
          20345,
          6624,
          34210,
          18868,
          7638,
          30302,
          13408,
          11194,
          47605,
          34800,
          9440,
          4269,
          3615,
          5278,
          2046,
          5122
         ],
         "type": "candlestick",
         "x": [
          "2022-02-23T00:00:00",
          "2022-02-24T00:00:00",
          "2022-02-25T00:00:00",
          "2022-02-26T00:00:00",
          "2022-02-27T00:00:00",
          "2022-02-28T00:00:00",
          "2022-03-02T00:00:00",
          "2022-03-06T00:00:00",
          "2022-03-07T00:00:00",
          "2022-03-09T00:00:00",
          "2022-03-10T00:00:00",
          "2022-03-13T00:00:00",
          "2022-03-14T00:00:00",
          "2022-03-15T00:00:00",
          "2022-03-16T00:00:00",
          "2022-03-20T00:00:00",
          "2022-03-21T00:00:00",
          "2022-03-22T00:00:00",
          "2022-03-23T00:00:00",
          "2022-03-24T00:00:00",
          "2022-03-27T00:00:00",
          "2022-03-28T00:00:00",
          "2022-03-29T00:00:00",
          "2022-03-30T00:00:00",
          "2022-03-31T00:00:00",
          "2022-04-03T00:00:00",
          "2022-04-04T00:00:00",
          "2022-04-05T00:00:00",
          "2022-04-06T00:00:00",
          "2022-04-07T00:00:00",
          "2022-04-11T00:00:00",
          "2022-04-12T00:00:00",
          "2022-04-13T00:00:00"
         ]
        }
       ],
       "layout": {
        "template": {
         "data": {
          "bar": [
           {
            "error_x": {
             "color": "#2a3f5f"
            },
            "error_y": {
             "color": "#2a3f5f"
            },
            "marker": {
             "line": {
              "color": "#E5ECF6",
              "width": 0.5
             },
             "pattern": {
              "fillmode": "overlay",
              "size": 10,
              "solidity": 0.2
             }
            },
            "type": "bar"
           }
          ],
          "barpolar": [
           {
            "marker": {
             "line": {
              "color": "#E5ECF6",
              "width": 0.5
             },
             "pattern": {
              "fillmode": "overlay",
              "size": 10,
              "solidity": 0.2
             }
            },
            "type": "barpolar"
           }
          ],
          "carpet": [
           {
            "aaxis": {
             "endlinecolor": "#2a3f5f",
             "gridcolor": "white",
             "linecolor": "white",
             "minorgridcolor": "white",
             "startlinecolor": "#2a3f5f"
            },
            "baxis": {
             "endlinecolor": "#2a3f5f",
             "gridcolor": "white",
             "linecolor": "white",
             "minorgridcolor": "white",
             "startlinecolor": "#2a3f5f"
            },
            "type": "carpet"
           }
          ],
          "choropleth": [
           {
            "colorbar": {
             "outlinewidth": 0,
             "ticks": ""
            },
            "type": "choropleth"
           }
          ],
          "contour": [
           {
            "colorbar": {
             "outlinewidth": 0,
             "ticks": ""
            },
            "colorscale": [
             [
              0,
              "#0d0887"
             ],
             [
              0.1111111111111111,
              "#46039f"
             ],
             [
              0.2222222222222222,
              "#7201a8"
             ],
             [
              0.3333333333333333,
              "#9c179e"
             ],
             [
              0.4444444444444444,
              "#bd3786"
             ],
             [
              0.5555555555555556,
              "#d8576b"
             ],
             [
              0.6666666666666666,
              "#ed7953"
             ],
             [
              0.7777777777777778,
              "#fb9f3a"
             ],
             [
              0.8888888888888888,
              "#fdca26"
             ],
             [
              1,
              "#f0f921"
             ]
            ],
            "type": "contour"
           }
          ],
          "contourcarpet": [
           {
            "colorbar": {
             "outlinewidth": 0,
             "ticks": ""
            },
            "type": "contourcarpet"
           }
          ],
          "heatmap": [
           {
            "colorbar": {
             "outlinewidth": 0,
             "ticks": ""
            },
            "colorscale": [
             [
              0,
              "#0d0887"
             ],
             [
              0.1111111111111111,
              "#46039f"
             ],
             [
              0.2222222222222222,
              "#7201a8"
             ],
             [
              0.3333333333333333,
              "#9c179e"
             ],
             [
              0.4444444444444444,
              "#bd3786"
             ],
             [
              0.5555555555555556,
              "#d8576b"
             ],
             [
              0.6666666666666666,
              "#ed7953"
             ],
             [
              0.7777777777777778,
              "#fb9f3a"
             ],
             [
              0.8888888888888888,
              "#fdca26"
             ],
             [
              1,
              "#f0f921"
             ]
            ],
            "type": "heatmap"
           }
          ],
          "heatmapgl": [
           {
            "colorbar": {
             "outlinewidth": 0,
             "ticks": ""
            },
            "colorscale": [
             [
              0,
              "#0d0887"
             ],
             [
              0.1111111111111111,
              "#46039f"
             ],
             [
              0.2222222222222222,
              "#7201a8"
             ],
             [
              0.3333333333333333,
              "#9c179e"
             ],
             [
              0.4444444444444444,
              "#bd3786"
             ],
             [
              0.5555555555555556,
              "#d8576b"
             ],
             [
              0.6666666666666666,
              "#ed7953"
             ],
             [
              0.7777777777777778,
              "#fb9f3a"
             ],
             [
              0.8888888888888888,
              "#fdca26"
             ],
             [
              1,
              "#f0f921"
             ]
            ],
            "type": "heatmapgl"
           }
          ],
          "histogram": [
           {
            "marker": {
             "pattern": {
              "fillmode": "overlay",
              "size": 10,
              "solidity": 0.2
             }
            },
            "type": "histogram"
           }
          ],
          "histogram2d": [
           {
            "colorbar": {
             "outlinewidth": 0,
             "ticks": ""
            },
            "colorscale": [
             [
              0,
              "#0d0887"
             ],
             [
              0.1111111111111111,
              "#46039f"
             ],
             [
              0.2222222222222222,
              "#7201a8"
             ],
             [
              0.3333333333333333,
              "#9c179e"
             ],
             [
              0.4444444444444444,
              "#bd3786"
             ],
             [
              0.5555555555555556,
              "#d8576b"
             ],
             [
              0.6666666666666666,
              "#ed7953"
             ],
             [
              0.7777777777777778,
              "#fb9f3a"
             ],
             [
              0.8888888888888888,
              "#fdca26"
             ],
             [
              1,
              "#f0f921"
             ]
            ],
            "type": "histogram2d"
           }
          ],
          "histogram2dcontour": [
           {
            "colorbar": {
             "outlinewidth": 0,
             "ticks": ""
            },
            "colorscale": [
             [
              0,
              "#0d0887"
             ],
             [
              0.1111111111111111,
              "#46039f"
             ],
             [
              0.2222222222222222,
              "#7201a8"
             ],
             [
              0.3333333333333333,
              "#9c179e"
             ],
             [
              0.4444444444444444,
              "#bd3786"
             ],
             [
              0.5555555555555556,
              "#d8576b"
             ],
             [
              0.6666666666666666,
              "#ed7953"
             ],
             [
              0.7777777777777778,
              "#fb9f3a"
             ],
             [
              0.8888888888888888,
              "#fdca26"
             ],
             [
              1,
              "#f0f921"
             ]
            ],
            "type": "histogram2dcontour"
           }
          ],
          "mesh3d": [
           {
            "colorbar": {
             "outlinewidth": 0,
             "ticks": ""
            },
            "type": "mesh3d"
           }
          ],
          "parcoords": [
           {
            "line": {
             "colorbar": {
              "outlinewidth": 0,
              "ticks": ""
             }
            },
            "type": "parcoords"
           }
          ],
          "pie": [
           {
            "automargin": true,
            "type": "pie"
           }
          ],
          "scatter": [
           {
            "marker": {
             "colorbar": {
              "outlinewidth": 0,
              "ticks": ""
             }
            },
            "type": "scatter"
           }
          ],
          "scatter3d": [
           {
            "line": {
             "colorbar": {
              "outlinewidth": 0,
              "ticks": ""
             }
            },
            "marker": {
             "colorbar": {
              "outlinewidth": 0,
              "ticks": ""
             }
            },
            "type": "scatter3d"
           }
          ],
          "scattercarpet": [
           {
            "marker": {
             "colorbar": {
              "outlinewidth": 0,
              "ticks": ""
             }
            },
            "type": "scattercarpet"
           }
          ],
          "scattergeo": [
           {
            "marker": {
             "colorbar": {
              "outlinewidth": 0,
              "ticks": ""
             }
            },
            "type": "scattergeo"
           }
          ],
          "scattergl": [
           {
            "marker": {
             "colorbar": {
              "outlinewidth": 0,
              "ticks": ""
             }
            },
            "type": "scattergl"
           }
          ],
          "scattermapbox": [
           {
            "marker": {
             "colorbar": {
              "outlinewidth": 0,
              "ticks": ""
             }
            },
            "type": "scattermapbox"
           }
          ],
          "scatterpolar": [
           {
            "marker": {
             "colorbar": {
              "outlinewidth": 0,
              "ticks": ""
             }
            },
            "type": "scatterpolar"
           }
          ],
          "scatterpolargl": [
           {
            "marker": {
             "colorbar": {
              "outlinewidth": 0,
              "ticks": ""
             }
            },
            "type": "scatterpolargl"
           }
          ],
          "scatterternary": [
           {
            "marker": {
             "colorbar": {
              "outlinewidth": 0,
              "ticks": ""
             }
            },
            "type": "scatterternary"
           }
          ],
          "surface": [
           {
            "colorbar": {
             "outlinewidth": 0,
             "ticks": ""
            },
            "colorscale": [
             [
              0,
              "#0d0887"
             ],
             [
              0.1111111111111111,
              "#46039f"
             ],
             [
              0.2222222222222222,
              "#7201a8"
             ],
             [
              0.3333333333333333,
              "#9c179e"
             ],
             [
              0.4444444444444444,
              "#bd3786"
             ],
             [
              0.5555555555555556,
              "#d8576b"
             ],
             [
              0.6666666666666666,
              "#ed7953"
             ],
             [
              0.7777777777777778,
              "#fb9f3a"
             ],
             [
              0.8888888888888888,
              "#fdca26"
             ],
             [
              1,
              "#f0f921"
             ]
            ],
            "type": "surface"
           }
          ],
          "table": [
           {
            "cells": {
             "fill": {
              "color": "#EBF0F8"
             },
             "line": {
              "color": "white"
             }
            },
            "header": {
             "fill": {
              "color": "#C8D4E3"
             },
             "line": {
              "color": "white"
             }
            },
            "type": "table"
           }
          ]
         },
         "layout": {
          "annotationdefaults": {
           "arrowcolor": "#2a3f5f",
           "arrowhead": 0,
           "arrowwidth": 1
          },
          "autotypenumbers": "strict",
          "coloraxis": {
           "colorbar": {
            "outlinewidth": 0,
            "ticks": ""
           }
          },
          "colorscale": {
           "diverging": [
            [
             0,
             "#8e0152"
            ],
            [
             0.1,
             "#c51b7d"
            ],
            [
             0.2,
             "#de77ae"
            ],
            [
             0.3,
             "#f1b6da"
            ],
            [
             0.4,
             "#fde0ef"
            ],
            [
             0.5,
             "#f7f7f7"
            ],
            [
             0.6,
             "#e6f5d0"
            ],
            [
             0.7,
             "#b8e186"
            ],
            [
             0.8,
             "#7fbc41"
            ],
            [
             0.9,
             "#4d9221"
            ],
            [
             1,
             "#276419"
            ]
           ],
           "sequential": [
            [
             0,
             "#0d0887"
            ],
            [
             0.1111111111111111,
             "#46039f"
            ],
            [
             0.2222222222222222,
             "#7201a8"
            ],
            [
             0.3333333333333333,
             "#9c179e"
            ],
            [
             0.4444444444444444,
             "#bd3786"
            ],
            [
             0.5555555555555556,
             "#d8576b"
            ],
            [
             0.6666666666666666,
             "#ed7953"
            ],
            [
             0.7777777777777778,
             "#fb9f3a"
            ],
            [
             0.8888888888888888,
             "#fdca26"
            ],
            [
             1,
             "#f0f921"
            ]
           ],
           "sequentialminus": [
            [
             0,
             "#0d0887"
            ],
            [
             0.1111111111111111,
             "#46039f"
            ],
            [
             0.2222222222222222,
             "#7201a8"
            ],
            [
             0.3333333333333333,
             "#9c179e"
            ],
            [
             0.4444444444444444,
             "#bd3786"
            ],
            [
             0.5555555555555556,
             "#d8576b"
            ],
            [
             0.6666666666666666,
             "#ed7953"
            ],
            [
             0.7777777777777778,
             "#fb9f3a"
            ],
            [
             0.8888888888888888,
             "#fdca26"
            ],
            [
             1,
             "#f0f921"
            ]
           ]
          },
          "colorway": [
           "#636efa",
           "#EF553B",
           "#00cc96",
           "#ab63fa",
           "#FFA15A",
           "#19d3f3",
           "#FF6692",
           "#B6E880",
           "#FF97FF",
           "#FECB52"
          ],
          "font": {
           "color": "#2a3f5f"
          },
          "geo": {
           "bgcolor": "white",
           "lakecolor": "white",
           "landcolor": "#E5ECF6",
           "showlakes": true,
           "showland": true,
           "subunitcolor": "white"
          },
          "hoverlabel": {
           "align": "left"
          },
          "hovermode": "closest",
          "mapbox": {
           "style": "light"
          },
          "paper_bgcolor": "white",
          "plot_bgcolor": "#E5ECF6",
          "polar": {
           "angularaxis": {
            "gridcolor": "white",
            "linecolor": "white",
            "ticks": ""
           },
           "bgcolor": "#E5ECF6",
           "radialaxis": {
            "gridcolor": "white",
            "linecolor": "white",
            "ticks": ""
           }
          },
          "scene": {
           "xaxis": {
            "backgroundcolor": "#E5ECF6",
            "gridcolor": "white",
            "gridwidth": 2,
            "linecolor": "white",
            "showbackground": true,
            "ticks": "",
            "zerolinecolor": "white"
           },
           "yaxis": {
            "backgroundcolor": "#E5ECF6",
            "gridcolor": "white",
            "gridwidth": 2,
            "linecolor": "white",
            "showbackground": true,
            "ticks": "",
            "zerolinecolor": "white"
           },
           "zaxis": {
            "backgroundcolor": "#E5ECF6",
            "gridcolor": "white",
            "gridwidth": 2,
            "linecolor": "white",
            "showbackground": true,
            "ticks": "",
            "zerolinecolor": "white"
           }
          },
          "shapedefaults": {
           "line": {
            "color": "#2a3f5f"
           }
          },
          "ternary": {
           "aaxis": {
            "gridcolor": "white",
            "linecolor": "white",
            "ticks": ""
           },
           "baxis": {
            "gridcolor": "white",
            "linecolor": "white",
            "ticks": ""
           },
           "bgcolor": "#E5ECF6",
           "caxis": {
            "gridcolor": "white",
            "linecolor": "white",
            "ticks": ""
           }
          },
          "title": {
           "x": 0.05
          },
          "xaxis": {
           "automargin": true,
           "gridcolor": "white",
           "linecolor": "white",
           "ticks": "",
           "title": {
            "standoff": 15
           },
           "zerolinecolor": "white",
           "zerolinewidth": 2
          },
          "yaxis": {
           "automargin": true,
           "gridcolor": "white",
           "linecolor": "white",
           "ticks": "",
           "title": {
            "standoff": 15
           },
           "zerolinecolor": "white",
           "zerolinewidth": 2
          }
         }
        }
       }
      }
     },
     "metadata": {},
     "output_type": "display_data"
    }
   ],
   "source": [
    "import plotly.graph_objects as go\n",
    "fig = go.Figure(data=go.Candlestick(x=demand_ohlc.reset_index()['a'],\n",
    "                    open=demand_ohlc['open'],\n",
    "                    high=demand_ohlc['high'],\n",
    "                    low=demand_ohlc['low'],\n",
    "                    close=demand_ohlc['close']))\n",
    "fig.show()"
   ]
  },
  {
   "cell_type": "code",
   "execution_count": null,
   "metadata": {},
   "outputs": [],
   "source": []
  }
 ],
 "metadata": {
  "interpreter": {
   "hash": "9f732bf2f1584e2b91c869ae689782b48698a078eb0caa539c1da4908ee28e8a"
  },
  "kernelspec": {
   "display_name": "Python 3.9.0 64-bit",
   "language": "python",
   "name": "python3"
  },
  "language_info": {
   "codemirror_mode": {
    "name": "ipython",
    "version": 3
   },
   "file_extension": ".py",
   "mimetype": "text/x-python",
   "name": "python",
   "nbconvert_exporter": "python",
   "pygments_lexer": "ipython3",
   "version": "3.10.2"
  },
  "orig_nbformat": 4
 },
 "nbformat": 4,
 "nbformat_minor": 2
}
